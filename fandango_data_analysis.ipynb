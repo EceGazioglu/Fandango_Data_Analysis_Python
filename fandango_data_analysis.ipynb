{
 "cells": [
  {
   "cell_type": "code",
   "execution_count": null,
   "id": "5f59cad8-2544-4826-a0b0-24c7d10bb54d",
   "metadata": {},
   "outputs": [],
   "source": [
    "# Can You Trust Fandango.com's Ratings?\n",
    "# ECE GAZİOĞLU\n",
    "# 05.09.2025"
   ]
  },
  {
   "cell_type": "code",
   "execution_count": null,
   "id": "fac75d0f-24eb-4a27-a19f-441e55257d9d",
   "metadata": {},
   "outputs": [],
   "source": [
    "# Fandango.com is a website that you can see movie ratings and also buy tickets from. but is this situation causing any bias? \n",
    "# this analysis aimed to answer this question; is Fandango artificially boosting the rating because they also sells tickets?"
   ]
  },
  {
   "cell_type": "code",
   "execution_count": null,
   "id": "2514a5e4-9033-43bf-b783-c27a49e6652f",
   "metadata": {},
   "outputs": [],
   "source": [
    " # https://fivethirtyeight.com/features/fandango-movies-ratings/"
   ]
  },
  {
   "cell_type": "code",
   "execution_count": null,
   "id": "91cc4215-c794-4f9a-9228-4e2e71610ead",
   "metadata": {},
   "outputs": [],
   "source": [
    "# The Data\n",
    "# This is the data behind the story Be Suspicious Of Online Movie Ratings,especially Fandango’s openly available on 538's github: https://github.com/fivethirtyeight/data. \n",
    "# There are two csv files, one with Fandango Stars and Displayed Ratings, and the other with aggregate data for movie ratings from other sites, like Metacritic,IMDB, and Rotten Tomatoes.\n",
    "# fandango_scrape.csv contains every film 538 pulled from Fandango. It has 4 columns; FILM, STARS (Number of stars presented on Fandango),RATING (The Fandango rating value for the film, as pulled from the HTML of each page. This is the actual average score the movie obtained.), VOTES (number of people who had reviewed the film at the time we pulled it.]\n",
    "# all_sites_scores.csv contains every film that has a Rotten Tomatoes rating, a RT User rating, a Metacritic score, a Metacritic User score, and IMDb score, and at least 30 fan reviews on Fandango. \n",
    "# The data from Fandango was pulled on Aug. 24, 2015.\n"
   ]
  },
  {
   "cell_type": "code",
   "execution_count": 1,
   "id": "2c190983-1b37-4c9d-b49c-ed67e0978a2c",
   "metadata": {},
   "outputs": [],
   "source": [
    "# Needed libraries\n",
    "import numpy as np\n",
    "import pandas as pd\n",
    "import matplotlib.pyplot as plt\n",
    "import seaborn as sns"
   ]
  },
  {
   "cell_type": "code",
   "execution_count": 3,
   "id": "44511b2a-691e-415b-bb3b-f6dad10303d9",
   "metadata": {},
   "outputs": [],
   "source": [
    "fandango = pd.read_csv(\"fandango_scrape.csv\")"
   ]
  },
  {
   "cell_type": "code",
   "execution_count": 5,
   "id": "2900bd52-1d7d-4a11-8303-7620956be68e",
   "metadata": {},
   "outputs": [
    {
     "name": "stdout",
     "output_type": "stream",
     "text": [
      "<class 'pandas.core.frame.DataFrame'>\n",
      "RangeIndex: 504 entries, 0 to 503\n",
      "Data columns (total 4 columns):\n",
      " #   Column  Non-Null Count  Dtype  \n",
      "---  ------  --------------  -----  \n",
      " 0   FILM    504 non-null    object \n",
      " 1   STARS   504 non-null    float64\n",
      " 2   RATING  504 non-null    float64\n",
      " 3   VOTES   504 non-null    int64  \n",
      "dtypes: float64(2), int64(1), object(1)\n",
      "memory usage: 15.9+ KB\n"
     ]
    }
   ],
   "source": [
    "fandango.info()"
   ]
  },
  {
   "cell_type": "code",
   "execution_count": 7,
   "id": "aba59ab3-4450-4f4f-91e0-634d669cb402",
   "metadata": {},
   "outputs": [
    {
     "data": {
      "text/html": [
       "<div>\n",
       "<style scoped>\n",
       "    .dataframe tbody tr th:only-of-type {\n",
       "        vertical-align: middle;\n",
       "    }\n",
       "\n",
       "    .dataframe tbody tr th {\n",
       "        vertical-align: top;\n",
       "    }\n",
       "\n",
       "    .dataframe thead th {\n",
       "        text-align: right;\n",
       "    }\n",
       "</style>\n",
       "<table border=\"1\" class=\"dataframe\">\n",
       "  <thead>\n",
       "    <tr style=\"text-align: right;\">\n",
       "      <th></th>\n",
       "      <th>FILM</th>\n",
       "      <th>STARS</th>\n",
       "      <th>RATING</th>\n",
       "      <th>VOTES</th>\n",
       "    </tr>\n",
       "  </thead>\n",
       "  <tbody>\n",
       "    <tr>\n",
       "      <th>0</th>\n",
       "      <td>Fifty Shades of Grey (2015)</td>\n",
       "      <td>4.0</td>\n",
       "      <td>3.9</td>\n",
       "      <td>34846</td>\n",
       "    </tr>\n",
       "    <tr>\n",
       "      <th>1</th>\n",
       "      <td>Jurassic World (2015)</td>\n",
       "      <td>4.5</td>\n",
       "      <td>4.5</td>\n",
       "      <td>34390</td>\n",
       "    </tr>\n",
       "    <tr>\n",
       "      <th>2</th>\n",
       "      <td>American Sniper (2015)</td>\n",
       "      <td>5.0</td>\n",
       "      <td>4.8</td>\n",
       "      <td>34085</td>\n",
       "    </tr>\n",
       "    <tr>\n",
       "      <th>3</th>\n",
       "      <td>Furious 7 (2015)</td>\n",
       "      <td>5.0</td>\n",
       "      <td>4.8</td>\n",
       "      <td>33538</td>\n",
       "    </tr>\n",
       "    <tr>\n",
       "      <th>4</th>\n",
       "      <td>Inside Out (2015)</td>\n",
       "      <td>4.5</td>\n",
       "      <td>4.5</td>\n",
       "      <td>15749</td>\n",
       "    </tr>\n",
       "  </tbody>\n",
       "</table>\n",
       "</div>"
      ],
      "text/plain": [
       "                          FILM  STARS  RATING  VOTES\n",
       "0  Fifty Shades of Grey (2015)    4.0     3.9  34846\n",
       "1        Jurassic World (2015)    4.5     4.5  34390\n",
       "2       American Sniper (2015)    5.0     4.8  34085\n",
       "3             Furious 7 (2015)    5.0     4.8  33538\n",
       "4            Inside Out (2015)    4.5     4.5  15749"
      ]
     },
     "execution_count": 7,
     "metadata": {},
     "output_type": "execute_result"
    }
   ],
   "source": [
    "fandango.head()"
   ]
  },
  {
   "cell_type": "code",
   "execution_count": 9,
   "id": "bc1e8ccd-cc90-427d-b8d2-41d39bd5b5b8",
   "metadata": {},
   "outputs": [
    {
     "data": {
      "text/plain": [
       "0"
      ]
     },
     "execution_count": 9,
     "metadata": {},
     "output_type": "execute_result"
    }
   ],
   "source": [
    "fandango.duplicated().sum()"
   ]
  },
  {
   "cell_type": "code",
   "execution_count": 11,
   "id": "862443ac-0e12-454d-860d-b1ebeee6b5af",
   "metadata": {},
   "outputs": [
    {
     "data": {
      "text/html": [
       "<div>\n",
       "<style scoped>\n",
       "    .dataframe tbody tr th:only-of-type {\n",
       "        vertical-align: middle;\n",
       "    }\n",
       "\n",
       "    .dataframe tbody tr th {\n",
       "        vertical-align: top;\n",
       "    }\n",
       "\n",
       "    .dataframe thead th {\n",
       "        text-align: right;\n",
       "    }\n",
       "</style>\n",
       "<table border=\"1\" class=\"dataframe\">\n",
       "  <thead>\n",
       "    <tr style=\"text-align: right;\">\n",
       "      <th></th>\n",
       "      <th>STARS</th>\n",
       "      <th>RATING</th>\n",
       "      <th>VOTES</th>\n",
       "    </tr>\n",
       "  </thead>\n",
       "  <tbody>\n",
       "    <tr>\n",
       "      <th>count</th>\n",
       "      <td>504.000000</td>\n",
       "      <td>504.000000</td>\n",
       "      <td>504.000000</td>\n",
       "    </tr>\n",
       "    <tr>\n",
       "      <th>mean</th>\n",
       "      <td>3.558532</td>\n",
       "      <td>3.375794</td>\n",
       "      <td>1147.863095</td>\n",
       "    </tr>\n",
       "    <tr>\n",
       "      <th>std</th>\n",
       "      <td>1.563133</td>\n",
       "      <td>1.491223</td>\n",
       "      <td>3830.583136</td>\n",
       "    </tr>\n",
       "    <tr>\n",
       "      <th>min</th>\n",
       "      <td>0.000000</td>\n",
       "      <td>0.000000</td>\n",
       "      <td>0.000000</td>\n",
       "    </tr>\n",
       "    <tr>\n",
       "      <th>25%</th>\n",
       "      <td>3.500000</td>\n",
       "      <td>3.100000</td>\n",
       "      <td>3.000000</td>\n",
       "    </tr>\n",
       "    <tr>\n",
       "      <th>50%</th>\n",
       "      <td>4.000000</td>\n",
       "      <td>3.800000</td>\n",
       "      <td>18.500000</td>\n",
       "    </tr>\n",
       "    <tr>\n",
       "      <th>75%</th>\n",
       "      <td>4.500000</td>\n",
       "      <td>4.300000</td>\n",
       "      <td>189.750000</td>\n",
       "    </tr>\n",
       "    <tr>\n",
       "      <th>max</th>\n",
       "      <td>5.000000</td>\n",
       "      <td>5.000000</td>\n",
       "      <td>34846.000000</td>\n",
       "    </tr>\n",
       "  </tbody>\n",
       "</table>\n",
       "</div>"
      ],
      "text/plain": [
       "            STARS      RATING         VOTES\n",
       "count  504.000000  504.000000    504.000000\n",
       "mean     3.558532    3.375794   1147.863095\n",
       "std      1.563133    1.491223   3830.583136\n",
       "min      0.000000    0.000000      0.000000\n",
       "25%      3.500000    3.100000      3.000000\n",
       "50%      4.000000    3.800000     18.500000\n",
       "75%      4.500000    4.300000    189.750000\n",
       "max      5.000000    5.000000  34846.000000"
      ]
     },
     "execution_count": 11,
     "metadata": {},
     "output_type": "execute_result"
    }
   ],
   "source": [
    "fandango.describe()\n",
    "# my first data, \"fandango\" is a small data that have 504 rows and 4 columns. \n",
    "# there are no nulls and duplicates"
   ]
  },
  {
   "cell_type": "code",
   "execution_count": 13,
   "id": "a8a90300-f219-45fb-8955-11a4cbc54d7d",
   "metadata": {},
   "outputs": [
    {
     "data": {
      "text/html": [
       "<div>\n",
       "<style scoped>\n",
       "    .dataframe tbody tr th:only-of-type {\n",
       "        vertical-align: middle;\n",
       "    }\n",
       "\n",
       "    .dataframe tbody tr th {\n",
       "        vertical-align: top;\n",
       "    }\n",
       "\n",
       "    .dataframe thead th {\n",
       "        text-align: right;\n",
       "    }\n",
       "</style>\n",
       "<table border=\"1\" class=\"dataframe\">\n",
       "  <thead>\n",
       "    <tr style=\"text-align: right;\">\n",
       "      <th></th>\n",
       "      <th>RATING</th>\n",
       "      <th>VOTES</th>\n",
       "    </tr>\n",
       "  </thead>\n",
       "  <tbody>\n",
       "    <tr>\n",
       "      <th>RATING</th>\n",
       "      <td>1.000000</td>\n",
       "      <td>0.163764</td>\n",
       "    </tr>\n",
       "    <tr>\n",
       "      <th>VOTES</th>\n",
       "      <td>0.163764</td>\n",
       "      <td>1.000000</td>\n",
       "    </tr>\n",
       "  </tbody>\n",
       "</table>\n",
       "</div>"
      ],
      "text/plain": [
       "          RATING     VOTES\n",
       "RATING  1.000000  0.163764\n",
       "VOTES   0.163764  1.000000"
      ]
     },
     "execution_count": 13,
     "metadata": {},
     "output_type": "execute_result"
    },
    {
     "data": {
      "image/png": "[encoded data removed]",
      "text/plain": [
       "<Figure size 640x480 with 1 Axes>"
      ]
     },
     "metadata": {},
     "output_type": "display_data"
    }
   ],
   "source": [
    "# the relationship between popularity of a film and its rating.\n",
    "sns.scatterplot(data=fandango,x=\"RATING\",y=\"VOTES\")\n",
    "fandango[[\"RATING\",\"VOTES\"]].corr()\n",
    "# in fandango, RATING and VOTES columns' correlation coefficient is too small, but positive\n",
    "# this means that as expected films with more votes tend to be more liked"
   ]
  },
  {
   "cell_type": "code",
   "execution_count": 15,
   "id": "4742b398-1502-4df4-81f4-c233eeb7f246",
   "metadata": {},
   "outputs": [
    {
     "data": {
      "text/html": [
       "<div>\n",
       "<style scoped>\n",
       "    .dataframe tbody tr th:only-of-type {\n",
       "        vertical-align: middle;\n",
       "    }\n",
       "\n",
       "    .dataframe tbody tr th {\n",
       "        vertical-align: top;\n",
       "    }\n",
       "\n",
       "    .dataframe thead th {\n",
       "        text-align: right;\n",
       "    }\n",
       "</style>\n",
       "<table border=\"1\" class=\"dataframe\">\n",
       "  <thead>\n",
       "    <tr style=\"text-align: right;\">\n",
       "      <th></th>\n",
       "      <th>STARS</th>\n",
       "      <th>RATING</th>\n",
       "      <th>VOTES</th>\n",
       "    </tr>\n",
       "  </thead>\n",
       "  <tbody>\n",
       "    <tr>\n",
       "      <th>STARS</th>\n",
       "      <td>1.000000</td>\n",
       "      <td>0.994696</td>\n",
       "      <td>0.164218</td>\n",
       "    </tr>\n",
       "    <tr>\n",
       "      <th>RATING</th>\n",
       "      <td>0.994696</td>\n",
       "      <td>1.000000</td>\n",
       "      <td>0.163764</td>\n",
       "    </tr>\n",
       "    <tr>\n",
       "      <th>VOTES</th>\n",
       "      <td>0.164218</td>\n",
       "      <td>0.163764</td>\n",
       "      <td>1.000000</td>\n",
       "    </tr>\n",
       "  </tbody>\n",
       "</table>\n",
       "</div>"
      ],
      "text/plain": [
       "           STARS    RATING     VOTES\n",
       "STARS   1.000000  0.994696  0.164218\n",
       "RATING  0.994696  1.000000  0.163764\n",
       "VOTES   0.164218  0.163764  1.000000"
      ]
     },
     "execution_count": 15,
     "metadata": {},
     "output_type": "execute_result"
    }
   ],
   "source": [
    "fandango.corr(numeric_only=True)\n",
    "# here i can see stars and rating are not perfectly correlated, \n",
    "# there is a little discrepancy between stars and rating that might be in allign with our hypothesis: Fandango might be intervene displayed stars"
   ]
  },
  {
   "cell_type": "code",
   "execution_count": 17,
   "id": "fcb2ee3b-778f-42cf-bb4c-e408b9f7b6ca",
   "metadata": {},
   "outputs": [
    {
     "data": {
      "text/html": [
       "<div>\n",
       "<style scoped>\n",
       "    .dataframe tbody tr th:only-of-type {\n",
       "        vertical-align: middle;\n",
       "    }\n",
       "\n",
       "    .dataframe tbody tr th {\n",
       "        vertical-align: top;\n",
       "    }\n",
       "\n",
       "    .dataframe thead th {\n",
       "        text-align: right;\n",
       "    }\n",
       "</style>\n",
       "<table border=\"1\" class=\"dataframe\">\n",
       "  <thead>\n",
       "    <tr style=\"text-align: right;\">\n",
       "      <th></th>\n",
       "      <th>FILM</th>\n",
       "      <th>STARS</th>\n",
       "      <th>RATING</th>\n",
       "      <th>VOTES</th>\n",
       "    </tr>\n",
       "  </thead>\n",
       "  <tbody>\n",
       "    <tr>\n",
       "      <th>165</th>\n",
       "      <td>The 100-Year-Old Man Who Climbed Out the Windo...</td>\n",
       "      <td>4.0</td>\n",
       "      <td>3.9</td>\n",
       "      <td>63</td>\n",
       "    </tr>\n",
       "    <tr>\n",
       "      <th>487</th>\n",
       "      <td>Shake the Dust (2015)</td>\n",
       "      <td>0.0</td>\n",
       "      <td>0.0</td>\n",
       "      <td>0</td>\n",
       "    </tr>\n",
       "    <tr>\n",
       "      <th>420</th>\n",
       "      <td>Stung (2015)</td>\n",
       "      <td>4.0</td>\n",
       "      <td>4.0</td>\n",
       "      <td>1</td>\n",
       "    </tr>\n",
       "    <tr>\n",
       "      <th>316</th>\n",
       "      <td>Humpback Whales (2015)</td>\n",
       "      <td>4.5</td>\n",
       "      <td>4.4</td>\n",
       "      <td>8</td>\n",
       "    </tr>\n",
       "    <tr>\n",
       "      <th>200</th>\n",
       "      <td>Premam (2015)</td>\n",
       "      <td>5.0</td>\n",
       "      <td>4.5</td>\n",
       "      <td>40</td>\n",
       "    </tr>\n",
       "  </tbody>\n",
       "</table>\n",
       "</div>"
      ],
      "text/plain": [
       "                                                  FILM  STARS  RATING  VOTES\n",
       "165  The 100-Year-Old Man Who Climbed Out the Windo...    4.0     3.9     63\n",
       "487                              Shake the Dust (2015)    0.0     0.0      0\n",
       "420                                       Stung (2015)    4.0     4.0      1\n",
       "316                             Humpback Whales (2015)    4.5     4.4      8\n",
       "200                                      Premam (2015)    5.0     4.5     40"
      ]
     },
     "execution_count": 17,
     "metadata": {},
     "output_type": "execute_result"
    }
   ],
   "source": [
    "fandango_copy=fandango.copy()\n",
    "fandango_copy.sample(5)"
   ]
  },
  {
   "cell_type": "code",
   "execution_count": 19,
   "id": "34f675d6-584c-4ecb-b1d7-63e6a8faf230",
   "metadata": {},
   "outputs": [],
   "source": [
    "# here as i can see in the FILM column both film name and year displayed, lets split and wrangle that column\n",
    "fandango_copy[\"film\"]=fandango_copy[\"FILM\"].str.split(\"(\").str[0]\n",
    "year=fandango_copy[\"FILM\"].str.split(\"(\").str[1]\n",
    "fandango_copy[\"year\"]=year.str.split(\")\").str[0]\n",
    "fandango_copy=fandango_copy.drop(\"FILM\",axis=1)"
   ]
  },
  {
   "cell_type": "code",
   "execution_count": 21,
   "id": "9d772916-d07b-457a-9da9-e5860e0c1088",
   "metadata": {},
   "outputs": [],
   "source": [
    "fandango_copy.columns\n",
    "fandango_copy.head()\n",
    "fandango_copy=fandango_copy[[\"film\",\"year\",\"STARS\",\"RATING\",\"VOTES\"]]"
   ]
  },
  {
   "cell_type": "code",
   "execution_count": 23,
   "id": "0c752279-574d-41cf-8752-811ff69d879d",
   "metadata": {},
   "outputs": [
    {
     "data": {
      "text/html": [
       "<div>\n",
       "<style scoped>\n",
       "    .dataframe tbody tr th:only-of-type {\n",
       "        vertical-align: middle;\n",
       "    }\n",
       "\n",
       "    .dataframe tbody tr th {\n",
       "        vertical-align: top;\n",
       "    }\n",
       "\n",
       "    .dataframe thead th {\n",
       "        text-align: right;\n",
       "    }\n",
       "</style>\n",
       "<table border=\"1\" class=\"dataframe\">\n",
       "  <thead>\n",
       "    <tr style=\"text-align: right;\">\n",
       "      <th></th>\n",
       "      <th>film</th>\n",
       "      <th>year</th>\n",
       "      <th>stars</th>\n",
       "      <th>rating</th>\n",
       "      <th>votes</th>\n",
       "    </tr>\n",
       "  </thead>\n",
       "  <tbody>\n",
       "    <tr>\n",
       "      <th>0</th>\n",
       "      <td>Fifty Shades of Grey</td>\n",
       "      <td>2015</td>\n",
       "      <td>4.0</td>\n",
       "      <td>3.9</td>\n",
       "      <td>34846</td>\n",
       "    </tr>\n",
       "    <tr>\n",
       "      <th>1</th>\n",
       "      <td>Jurassic World</td>\n",
       "      <td>2015</td>\n",
       "      <td>4.5</td>\n",
       "      <td>4.5</td>\n",
       "      <td>34390</td>\n",
       "    </tr>\n",
       "    <tr>\n",
       "      <th>2</th>\n",
       "      <td>American Sniper</td>\n",
       "      <td>2015</td>\n",
       "      <td>5.0</td>\n",
       "      <td>4.8</td>\n",
       "      <td>34085</td>\n",
       "    </tr>\n",
       "    <tr>\n",
       "      <th>3</th>\n",
       "      <td>Furious 7</td>\n",
       "      <td>2015</td>\n",
       "      <td>5.0</td>\n",
       "      <td>4.8</td>\n",
       "      <td>33538</td>\n",
       "    </tr>\n",
       "    <tr>\n",
       "      <th>4</th>\n",
       "      <td>Inside Out</td>\n",
       "      <td>2015</td>\n",
       "      <td>4.5</td>\n",
       "      <td>4.5</td>\n",
       "      <td>15749</td>\n",
       "    </tr>\n",
       "  </tbody>\n",
       "</table>\n",
       "</div>"
      ],
      "text/plain": [
       "                    film  year  stars  rating  votes\n",
       "0  Fifty Shades of Grey   2015    4.0     3.9  34846\n",
       "1        Jurassic World   2015    4.5     4.5  34390\n",
       "2       American Sniper   2015    5.0     4.8  34085\n",
       "3             Furious 7   2015    5.0     4.8  33538\n",
       "4            Inside Out   2015    4.5     4.5  15749"
      ]
     },
     "execution_count": 23,
     "metadata": {},
     "output_type": "execute_result"
    }
   ],
   "source": [
    "fandango_copy=fandango_copy.rename(columns={\"STARS\":\"stars\",\"RATING\":\"rating\",\"VOTES\":\"votes\"})\n",
    "fandango_copy.head()\n",
    "# in order to doing wrangling first we split the FILM column into film and year columns, then a closing pharanthesis remained in year column and i removed that too, then i dropped column FILM that became unnecessary and changed columns names all lowercase"
   ]
  },
  {
   "cell_type": "code",
   "execution_count": null,
   "id": "ef1b081f-9e42-4dd7-a93e-0a69943ee2f1",
   "metadata": {},
   "outputs": [],
   "source": [
    "# lets see how many films are in the Fandango data per year?"
   ]
  },
  {
   "cell_type": "code",
   "execution_count": 25,
   "id": "cf39a517-f1cb-4df2-8a26-50eeb233f19b",
   "metadata": {},
   "outputs": [
    {
     "data": {
      "text/plain": [
       "year\n",
       "2015                  474\n",
       "2014                   24\n",
       "Stratford Festival      2\n",
       "Shi Gu                  1\n",
       "2016                    1\n",
       "1964                    1\n",
       "2012                    1\n",
       "Name: count, dtype: int64"
      ]
     },
     "execution_count": 25,
     "metadata": {},
     "output_type": "execute_result"
    }
   ],
   "source": [
    "fandango_copy[\"year\"].value_counts()\n",
    "# now we see there are some issues here, there shouldnt be \"Stratford festival\" or \"Shi gu\" as year..lets go back to our original data and try again"
   ]
  },
  {
   "cell_type": "code",
   "execution_count": 27,
   "id": "846fd006-8e27-4fba-b40d-a381f2b534a7",
   "metadata": {},
   "outputs": [
    {
     "data": {
      "text/html": [
       "<div>\n",
       "<style scoped>\n",
       "    .dataframe tbody tr th:only-of-type {\n",
       "        vertical-align: middle;\n",
       "    }\n",
       "\n",
       "    .dataframe tbody tr th {\n",
       "        vertical-align: top;\n",
       "    }\n",
       "\n",
       "    .dataframe thead th {\n",
       "        text-align: right;\n",
       "    }\n",
       "</style>\n",
       "<table border=\"1\" class=\"dataframe\">\n",
       "  <thead>\n",
       "    <tr style=\"text-align: right;\">\n",
       "      <th></th>\n",
       "      <th>FILM</th>\n",
       "      <th>STARS</th>\n",
       "      <th>RATING</th>\n",
       "      <th>VOTES</th>\n",
       "    </tr>\n",
       "  </thead>\n",
       "  <tbody>\n",
       "    <tr>\n",
       "      <th>212</th>\n",
       "      <td>Just the Way You Are (2014) (2015)</td>\n",
       "      <td>5.0</td>\n",
       "      <td>4.8</td>\n",
       "      <td>29</td>\n",
       "    </tr>\n",
       "    <tr>\n",
       "      <th>222</th>\n",
       "      <td>Antony and Cleopatra (Stratford Festival) (2015)</td>\n",
       "      <td>3.5</td>\n",
       "      <td>3.0</td>\n",
       "      <td>25</td>\n",
       "    </tr>\n",
       "    <tr>\n",
       "      <th>280</th>\n",
       "      <td>Lost and Love (Shi Gu) (2015)</td>\n",
       "      <td>5.0</td>\n",
       "      <td>4.6</td>\n",
       "      <td>12</td>\n",
       "    </tr>\n",
       "  </tbody>\n",
       "</table>\n",
       "</div>"
      ],
      "text/plain": [
       "                                                 FILM  STARS  RATING  VOTES\n",
       "212                Just the Way You Are (2014) (2015)    5.0     4.8     29\n",
       "222  Antony and Cleopatra (Stratford Festival) (2015)    3.5     3.0     25\n",
       "280                     Lost and Love (Shi Gu) (2015)    5.0     4.6     12"
      ]
     },
     "execution_count": 27,
     "metadata": {},
     "output_type": "execute_result"
    }
   ],
   "source": [
    "# with a quick look; 222 Antony and Cleopatra,212 has two years, 280 Lost and Love have issues\n",
    "fandango.iloc[[212,222,280]]"
   ]
  },
  {
   "cell_type": "code",
   "execution_count": 29,
   "id": "12392456-a9a5-423e-91f0-cc9dee59cade",
   "metadata": {},
   "outputs": [],
   "source": [
    "fandango_copy11=fandango.copy()"
   ]
  },
  {
   "cell_type": "code",
   "execution_count": 31,
   "id": "9ccdac2a-1f1c-47c9-be03-b3425309938e",
   "metadata": {},
   "outputs": [],
   "source": [
    "fandango_copy11.head()\n",
    "fandango_copy11.sample(20)\n",
    "fandango_copy11.iloc[222]\n",
    "fandango_copy11[\"FILM\"].str.rsplit(\"(\",n=1).iloc[280]\n",
    "fandango_copy11[\"FILM\"].str.rsplit(\"(\",n=1).str[0].iloc[280]\n",
    "fandango_copy11[\"FILM\"].str.rsplit(\"(\",n=1).str[1].iloc[222]\n",
    "fandango_copy11[\"film\"]=fandango_copy11[\"FILM\"].str.rsplit(\"(\",n=1).str[0]\n",
    "fandango_copy11[\"year\"]=(fandango_copy11[\"FILM\"].str.rsplit(\"(\",n=1).str[1]).str.split(\")\").str[0]\n",
    "# here we split FILM column into 2 with rsplit and voila."
   ]
  },
  {
   "cell_type": "code",
   "execution_count": 33,
   "id": "e8226037-2997-4dbe-a521-f05850f95899",
   "metadata": {},
   "outputs": [
    {
     "data": {
      "text/plain": [
       "FILM      Antony and Cleopatra (Stratford Festival) (2015)\n",
       "STARS                                                  3.5\n",
       "RATING                                                 3.0\n",
       "VOTES                                                   25\n",
       "film            Antony and Cleopatra (Stratford Festival) \n",
       "year                                                  2015\n",
       "Name: 222, dtype: object"
      ]
     },
     "execution_count": 33,
     "metadata": {},
     "output_type": "execute_result"
    }
   ],
   "source": [
    "fandango_copy11.iloc[222]"
   ]
  },
  {
   "cell_type": "code",
   "execution_count": 35,
   "id": "ad2d83d5-ac25-4fbf-a6ab-a7dd00bd01a5",
   "metadata": {},
   "outputs": [
    {
     "data": {
      "text/plain": [
       "year\n",
       "2015    478\n",
       "2014     23\n",
       "2016      1\n",
       "1964      1\n",
       "2012      1\n",
       "Name: count, dtype: int64"
      ]
     },
     "execution_count": 35,
     "metadata": {},
     "output_type": "execute_result"
    }
   ],
   "source": [
    "# now i can see count of films per year\n",
    "fandango_copy11[\"year\"].value_counts()"
   ]
  },
  {
   "cell_type": "code",
   "execution_count": 37,
   "id": "42eef9d5-0c3c-4e98-9601-2209a00cc5b7",
   "metadata": {},
   "outputs": [
    {
     "data": {
      "text/plain": [
       "<Axes: xlabel='year', ylabel='count'>"
      ]
     },
     "execution_count": 37,
     "metadata": {},
     "output_type": "execute_result"
    },
    {
     "data": {
      "image/png": "[encoded data removed]",
      "text/plain": [
       "<Figure size 640x480 with 1 Axes>"
      ]
     },
     "metadata": {},
     "output_type": "display_data"
    }
   ],
   "source": [
    "# Visualize the count of movies per year with a plot\n",
    "sns.countplot(data=fandango_copy11,x=\"year\")"
   ]
  },
  {
   "cell_type": "code",
   "execution_count": 45,
   "id": "060e6e79-b2d0-4ca3-b8e8-04604e416541",
   "metadata": {},
   "outputs": [
    {
     "data": {
      "text/plain": [
       "(0.0, 30.0)"
      ]
     },
     "execution_count": 45,
     "metadata": {},
     "output_type": "execute_result"
    },
    {
     "data": {
      "image/png": "[encoded data removed]",
      "text/plain": [
       "<Figure size 640x480 with 1 Axes>"
      ]
     },
     "metadata": {},
     "output_type": "display_data"
    }
   ],
   "source": [
    "# lets zoom in for the years except 2015\n",
    "sns.countplot(data=fandango_copy11,x=\"year\")\n",
    "plt.ylim(0,30)"
   ]
  },
  {
   "cell_type": "code",
   "execution_count": null,
   "id": "cd4a3b1b-26f2-4384-bedc-e3945bcb1787",
   "metadata": {},
   "outputs": [],
   "source": [
    "# i saw some outliers in the relationship between rating and votes scatterplot before, lets look at them \n",
    "# What are the 10 movies with the highest number of votes?"
   ]
  },
  {
   "cell_type": "code",
   "execution_count": 39,
   "id": "13f04ea8-92cc-45cc-8dd5-607d0bb0df72",
   "metadata": {},
   "outputs": [
    {
     "data": {
      "text/html": [
       "<div>\n",
       "<style scoped>\n",
       "    .dataframe tbody tr th:only-of-type {\n",
       "        vertical-align: middle;\n",
       "    }\n",
       "\n",
       "    .dataframe tbody tr th {\n",
       "        vertical-align: top;\n",
       "    }\n",
       "\n",
       "    .dataframe thead th {\n",
       "        text-align: right;\n",
       "    }\n",
       "</style>\n",
       "<table border=\"1\" class=\"dataframe\">\n",
       "  <thead>\n",
       "    <tr style=\"text-align: right;\">\n",
       "      <th></th>\n",
       "      <th>FILM</th>\n",
       "      <th>STARS</th>\n",
       "      <th>RATING</th>\n",
       "      <th>VOTES</th>\n",
       "      <th>film</th>\n",
       "      <th>year</th>\n",
       "    </tr>\n",
       "  </thead>\n",
       "  <tbody>\n",
       "    <tr>\n",
       "      <th>0</th>\n",
       "      <td>Fifty Shades of Grey (2015)</td>\n",
       "      <td>4.0</td>\n",
       "      <td>3.9</td>\n",
       "      <td>34846</td>\n",
       "      <td>Fifty Shades of Grey</td>\n",
       "      <td>2015</td>\n",
       "    </tr>\n",
       "    <tr>\n",
       "      <th>1</th>\n",
       "      <td>Jurassic World (2015)</td>\n",
       "      <td>4.5</td>\n",
       "      <td>4.5</td>\n",
       "      <td>34390</td>\n",
       "      <td>Jurassic World</td>\n",
       "      <td>2015</td>\n",
       "    </tr>\n",
       "    <tr>\n",
       "      <th>2</th>\n",
       "      <td>American Sniper (2015)</td>\n",
       "      <td>5.0</td>\n",
       "      <td>4.8</td>\n",
       "      <td>34085</td>\n",
       "      <td>American Sniper</td>\n",
       "      <td>2015</td>\n",
       "    </tr>\n",
       "    <tr>\n",
       "      <th>3</th>\n",
       "      <td>Furious 7 (2015)</td>\n",
       "      <td>5.0</td>\n",
       "      <td>4.8</td>\n",
       "      <td>33538</td>\n",
       "      <td>Furious 7</td>\n",
       "      <td>2015</td>\n",
       "    </tr>\n",
       "    <tr>\n",
       "      <th>4</th>\n",
       "      <td>Inside Out (2015)</td>\n",
       "      <td>4.5</td>\n",
       "      <td>4.5</td>\n",
       "      <td>15749</td>\n",
       "      <td>Inside Out</td>\n",
       "      <td>2015</td>\n",
       "    </tr>\n",
       "    <tr>\n",
       "      <th>5</th>\n",
       "      <td>The Hobbit: The Battle of the Five Armies (2014)</td>\n",
       "      <td>4.5</td>\n",
       "      <td>4.3</td>\n",
       "      <td>15337</td>\n",
       "      <td>The Hobbit: The Battle of the Five Armies</td>\n",
       "      <td>2014</td>\n",
       "    </tr>\n",
       "    <tr>\n",
       "      <th>6</th>\n",
       "      <td>Kingsman: The Secret Service (2015)</td>\n",
       "      <td>4.5</td>\n",
       "      <td>4.2</td>\n",
       "      <td>15205</td>\n",
       "      <td>Kingsman: The Secret Service</td>\n",
       "      <td>2015</td>\n",
       "    </tr>\n",
       "    <tr>\n",
       "      <th>7</th>\n",
       "      <td>Minions (2015)</td>\n",
       "      <td>4.0</td>\n",
       "      <td>4.0</td>\n",
       "      <td>14998</td>\n",
       "      <td>Minions</td>\n",
       "      <td>2015</td>\n",
       "    </tr>\n",
       "    <tr>\n",
       "      <th>8</th>\n",
       "      <td>Avengers: Age of Ultron (2015)</td>\n",
       "      <td>5.0</td>\n",
       "      <td>4.5</td>\n",
       "      <td>14846</td>\n",
       "      <td>Avengers: Age of Ultron</td>\n",
       "      <td>2015</td>\n",
       "    </tr>\n",
       "    <tr>\n",
       "      <th>9</th>\n",
       "      <td>Into the Woods (2014)</td>\n",
       "      <td>3.5</td>\n",
       "      <td>3.4</td>\n",
       "      <td>13055</td>\n",
       "      <td>Into the Woods</td>\n",
       "      <td>2014</td>\n",
       "    </tr>\n",
       "  </tbody>\n",
       "</table>\n",
       "</div>"
      ],
      "text/plain": [
       "                                               FILM  STARS  RATING  VOTES  \\\n",
       "0                       Fifty Shades of Grey (2015)    4.0     3.9  34846   \n",
       "1                             Jurassic World (2015)    4.5     4.5  34390   \n",
       "2                            American Sniper (2015)    5.0     4.8  34085   \n",
       "3                                  Furious 7 (2015)    5.0     4.8  33538   \n",
       "4                                 Inside Out (2015)    4.5     4.5  15749   \n",
       "5  The Hobbit: The Battle of the Five Armies (2014)    4.5     4.3  15337   \n",
       "6               Kingsman: The Secret Service (2015)    4.5     4.2  15205   \n",
       "7                                    Minions (2015)    4.0     4.0  14998   \n",
       "8                    Avengers: Age of Ultron (2015)    5.0     4.5  14846   \n",
       "9                             Into the Woods (2014)    3.5     3.4  13055   \n",
       "\n",
       "                                         film  year  \n",
       "0                       Fifty Shades of Grey   2015  \n",
       "1                             Jurassic World   2015  \n",
       "2                            American Sniper   2015  \n",
       "3                                  Furious 7   2015  \n",
       "4                                 Inside Out   2015  \n",
       "5  The Hobbit: The Battle of the Five Armies   2014  \n",
       "6               Kingsman: The Secret Service   2015  \n",
       "7                                    Minions   2015  \n",
       "8                    Avengers: Age of Ultron   2015  \n",
       "9                             Into the Woods   2014  "
      ]
     },
     "execution_count": 39,
     "metadata": {},
     "output_type": "execute_result"
    }
   ],
   "source": [
    "fandango_copy11.sort_values(\"VOTES\",ascending=False).head(10)\n",
    "# the most popular 10 films\n",
    "# especially Fifty shades of grey, jurassic world, american sniper and furious 7 seem very popular"
   ]
  },
  {
   "cell_type": "code",
   "execution_count": 41,
   "id": "f963839b-7254-419e-878b-d1dc2a4a71c7",
   "metadata": {},
   "outputs": [
    {
     "data": {
      "text/plain": [
       "69"
      ]
     },
     "execution_count": 41,
     "metadata": {},
     "output_type": "execute_result"
    }
   ],
   "source": [
    "# How many movies have zero votes?\n",
    "fandango_copy11[fandango_copy11[\"VOTES\"]==0].shape[0]"
   ]
  },
  {
   "cell_type": "code",
   "execution_count": 43,
   "id": "57729e3e-1d92-47dd-b812-17f5074f0ab8",
   "metadata": {},
   "outputs": [
    {
     "data": {
      "text/html": [
       "<div>\n",
       "<style scoped>\n",
       "    .dataframe tbody tr th:only-of-type {\n",
       "        vertical-align: middle;\n",
       "    }\n",
       "\n",
       "    .dataframe tbody tr th {\n",
       "        vertical-align: top;\n",
       "    }\n",
       "\n",
       "    .dataframe thead th {\n",
       "        text-align: right;\n",
       "    }\n",
       "</style>\n",
       "<table border=\"1\" class=\"dataframe\">\n",
       "  <thead>\n",
       "    <tr style=\"text-align: right;\">\n",
       "      <th></th>\n",
       "      <th>FILM</th>\n",
       "      <th>STARS</th>\n",
       "      <th>RATING</th>\n",
       "      <th>VOTES</th>\n",
       "      <th>film</th>\n",
       "      <th>year</th>\n",
       "    </tr>\n",
       "  </thead>\n",
       "  <tbody>\n",
       "  </tbody>\n",
       "</table>\n",
       "</div>"
      ],
      "text/plain": [
       "Empty DataFrame\n",
       "Columns: [FILM, STARS, RATING, VOTES, film, year]\n",
       "Index: []"
      ]
     },
     "execution_count": 43,
     "metadata": {},
     "output_type": "execute_result"
    }
   ],
   "source": [
    "fandango_copy11[(fandango_copy11[\"VOTES\"] != 0) & ((fandango_copy11[\"RATING\"] == 0) | (fandango_copy11[\"STARS\"] == 0))]"
   ]
  },
  {
   "cell_type": "code",
   "execution_count": 45,
   "id": "1448ef94-ef5e-4516-a0c5-2b30bb3eabbe",
   "metadata": {},
   "outputs": [],
   "source": [
    "# since i interested in rated/voted/reviewed films in order to analyze correctness of ratings,i need to create DataFrame of only reviewed films by removing any films that have zero votes.\n",
    "fandango_copy12=fandango_copy11[fandango_copy11[\"VOTES\"] != 0]"
   ]
  },
  {
   "cell_type": "code",
   "execution_count": 47,
   "id": "dcf85bf4-9c19-41e4-b278-4b20efa7feec",
   "metadata": {},
   "outputs": [
    {
     "data": {
      "text/html": [
       "<div>\n",
       "<style scoped>\n",
       "    .dataframe tbody tr th:only-of-type {\n",
       "        vertical-align: middle;\n",
       "    }\n",
       "\n",
       "    .dataframe tbody tr th {\n",
       "        vertical-align: top;\n",
       "    }\n",
       "\n",
       "    .dataframe thead th {\n",
       "        text-align: right;\n",
       "    }\n",
       "</style>\n",
       "<table border=\"1\" class=\"dataframe\">\n",
       "  <thead>\n",
       "    <tr style=\"text-align: right;\">\n",
       "      <th></th>\n",
       "      <th>FILM</th>\n",
       "      <th>STARS</th>\n",
       "      <th>RATING</th>\n",
       "      <th>VOTES</th>\n",
       "      <th>film</th>\n",
       "      <th>year</th>\n",
       "    </tr>\n",
       "  </thead>\n",
       "  <tbody>\n",
       "  </tbody>\n",
       "</table>\n",
       "</div>"
      ],
      "text/plain": [
       "Empty DataFrame\n",
       "Columns: [FILM, STARS, RATING, VOTES, film, year]\n",
       "Index: []"
      ]
     },
     "execution_count": 47,
     "metadata": {},
     "output_type": "execute_result"
    }
   ],
   "source": [
    "fandango_copy12[fandango_copy12[\"VOTES\"] == 0]"
   ]
  },
  {
   "cell_type": "code",
   "execution_count": null,
   "id": "15e9e21b-fcad-45de-867b-4ba47707d12e",
   "metadata": {},
   "outputs": [],
   "source": [
    "# As noted in the article, the true user rating may be slightly different than the rating shown to a user. Let's visualize this difference in distributions."
   ]
  },
  {
   "cell_type": "code",
   "execution_count": 49,
   "id": "824ae432-e758-47ff-99d3-aa4de9cf49f5",
   "metadata": {},
   "outputs": [
    {
     "data": {
      "text/plain": [
       "<matplotlib.legend.Legend at 0x1816568ef00>"
      ]
     },
     "execution_count": 49,
     "metadata": {},
     "output_type": "execute_result"
    },
    {
     "data": {
      "image/png": "[encoded data removed]",
      "text/plain": [
       "<Figure size 800x400 with 1 Axes>"
      ]
     },
     "metadata": {},
     "output_type": "display_data"
    }
   ],
   "source": [
    "plt.figure(figsize=(8,4))\n",
    "sns.kdeplot(data=fandango_copy12, x=\"RATING\", fill=True, color=\"blue\", label=\"True Rating\",clip=(0,5))\n",
    "sns.kdeplot(data=fandango_copy12, x=\"STARS\", fill=True, color=\"red\", label=\"Stars Displayed\",clip=(0,5))\n",
    "\n",
    "plt.legend(loc=(1.1,0.75))\n",
    "# here as i can see, in most of the time, true rating is lower than displayed stars"
   ]
  },
  {
   "cell_type": "code",
   "execution_count": 51,
   "id": "115515cc-27a2-4714-969a-6a659add07fa",
   "metadata": {},
   "outputs": [
    {
     "name": "stderr",
     "output_type": "stream",
     "text": [
      "C:\\Users\\ASUS\\AppData\\Local\\Temp\\ipykernel_9832\\1534931880.py:2: SettingWithCopyWarning: \n",
      "A value is trying to be set on a copy of a slice from a DataFrame.\n",
      "Try using .loc[row_indexer,col_indexer] = value instead\n",
      "\n",
      "See the caveats in the documentation: https://pandas.pydata.org/pandas-docs/stable/user_guide/indexing.html#returning-a-view-versus-a-copy\n",
      "  fandango_copy12[\"stars_diff\"]=round((fandango_copy12[\"STARS\"]-fandango_copy12[\"RATING\"]),1)\n"
     ]
    },
    {
     "data": {
      "text/html": [
       "<div>\n",
       "<style scoped>\n",
       "    .dataframe tbody tr th:only-of-type {\n",
       "        vertical-align: middle;\n",
       "    }\n",
       "\n",
       "    .dataframe tbody tr th {\n",
       "        vertical-align: top;\n",
       "    }\n",
       "\n",
       "    .dataframe thead th {\n",
       "        text-align: right;\n",
       "    }\n",
       "</style>\n",
       "<table border=\"1\" class=\"dataframe\">\n",
       "  <thead>\n",
       "    <tr style=\"text-align: right;\">\n",
       "      <th></th>\n",
       "      <th>FILM</th>\n",
       "      <th>STARS</th>\n",
       "      <th>RATING</th>\n",
       "      <th>VOTES</th>\n",
       "      <th>film</th>\n",
       "      <th>year</th>\n",
       "      <th>stars_diff</th>\n",
       "    </tr>\n",
       "  </thead>\n",
       "  <tbody>\n",
       "    <tr>\n",
       "      <th>0</th>\n",
       "      <td>Fifty Shades of Grey (2015)</td>\n",
       "      <td>4.0</td>\n",
       "      <td>3.9</td>\n",
       "      <td>34846</td>\n",
       "      <td>Fifty Shades of Grey</td>\n",
       "      <td>2015</td>\n",
       "      <td>0.1</td>\n",
       "    </tr>\n",
       "    <tr>\n",
       "      <th>1</th>\n",
       "      <td>Jurassic World (2015)</td>\n",
       "      <td>4.5</td>\n",
       "      <td>4.5</td>\n",
       "      <td>34390</td>\n",
       "      <td>Jurassic World</td>\n",
       "      <td>2015</td>\n",
       "      <td>0.0</td>\n",
       "    </tr>\n",
       "    <tr>\n",
       "      <th>2</th>\n",
       "      <td>American Sniper (2015)</td>\n",
       "      <td>5.0</td>\n",
       "      <td>4.8</td>\n",
       "      <td>34085</td>\n",
       "      <td>American Sniper</td>\n",
       "      <td>2015</td>\n",
       "      <td>0.2</td>\n",
       "    </tr>\n",
       "    <tr>\n",
       "      <th>3</th>\n",
       "      <td>Furious 7 (2015)</td>\n",
       "      <td>5.0</td>\n",
       "      <td>4.8</td>\n",
       "      <td>33538</td>\n",
       "      <td>Furious 7</td>\n",
       "      <td>2015</td>\n",
       "      <td>0.2</td>\n",
       "    </tr>\n",
       "    <tr>\n",
       "      <th>4</th>\n",
       "      <td>Inside Out (2015)</td>\n",
       "      <td>4.5</td>\n",
       "      <td>4.5</td>\n",
       "      <td>15749</td>\n",
       "      <td>Inside Out</td>\n",
       "      <td>2015</td>\n",
       "      <td>0.0</td>\n",
       "    </tr>\n",
       "  </tbody>\n",
       "</table>\n",
       "</div>"
      ],
      "text/plain": [
       "                          FILM  STARS  RATING  VOTES                   film  \\\n",
       "0  Fifty Shades of Grey (2015)    4.0     3.9  34846  Fifty Shades of Grey    \n",
       "1        Jurassic World (2015)    4.5     4.5  34390        Jurassic World    \n",
       "2       American Sniper (2015)    5.0     4.8  34085       American Sniper    \n",
       "3             Furious 7 (2015)    5.0     4.8  33538             Furious 7    \n",
       "4            Inside Out (2015)    4.5     4.5  15749            Inside Out    \n",
       "\n",
       "   year  stars_diff  \n",
       "0  2015         0.1  \n",
       "1  2015         0.0  \n",
       "2  2015         0.2  \n",
       "3  2015         0.2  \n",
       "4  2015         0.0  "
      ]
     },
     "execution_count": 51,
     "metadata": {},
     "output_type": "execute_result"
    }
   ],
   "source": [
    "# Let's now actually quantify this discrepancy\n",
    "fandango_copy12[\"stars_diff\"]=round((fandango_copy12[\"STARS\"]-fandango_copy12[\"RATING\"]),1)\n",
    "fandango_copy12.head()"
   ]
  },
  {
   "cell_type": "code",
   "execution_count": 53,
   "id": "eb779cb1-d039-405d-9177-ffa4f7ff51c5",
   "metadata": {},
   "outputs": [
    {
     "data": {
      "text/plain": [
       "<Axes: xlabel='stars_diff', ylabel='count'>"
      ]
     },
     "execution_count": 53,
     "metadata": {},
     "output_type": "execute_result"
    },
    {
     "data": {
      "image/png": "[encoded data removed]",
      "text/plain": [
       "<Figure size 640x480 with 1 Axes>"
      ]
     },
     "metadata": {},
     "output_type": "display_data"
    }
   ],
   "source": [
    "sns.countplot(data=fandango_copy12,x=\"stars_diff\")\n",
    "# there are quite a lot times that Fandango intervene displayed stars\n",
    "# also since all diffs are positive, Fandango rounded UP stars!"
   ]
  },
  {
   "cell_type": "code",
   "execution_count": 57,
   "id": "cd230b85-b4fa-4388-8890-c0444f71f91d",
   "metadata": {},
   "outputs": [
    {
     "data": {
      "text/html": [
       "<div>\n",
       "<style scoped>\n",
       "    .dataframe tbody tr th:only-of-type {\n",
       "        vertical-align: middle;\n",
       "    }\n",
       "\n",
       "    .dataframe tbody tr th {\n",
       "        vertical-align: top;\n",
       "    }\n",
       "\n",
       "    .dataframe thead th {\n",
       "        text-align: right;\n",
       "    }\n",
       "</style>\n",
       "<table border=\"1\" class=\"dataframe\">\n",
       "  <thead>\n",
       "    <tr style=\"text-align: right;\">\n",
       "      <th></th>\n",
       "      <th>FILM</th>\n",
       "      <th>STARS</th>\n",
       "      <th>RATING</th>\n",
       "      <th>VOTES</th>\n",
       "      <th>film</th>\n",
       "      <th>year</th>\n",
       "      <th>stars_diff</th>\n",
       "    </tr>\n",
       "  </thead>\n",
       "  <tbody>\n",
       "    <tr>\n",
       "      <th>381</th>\n",
       "      <td>Turbo Kid (2015)</td>\n",
       "      <td>5.0</td>\n",
       "      <td>4.0</td>\n",
       "      <td>2</td>\n",
       "      <td>Turbo Kid</td>\n",
       "      <td>2015</td>\n",
       "      <td>1.0</td>\n",
       "    </tr>\n",
       "  </tbody>\n",
       "</table>\n",
       "</div>"
      ],
      "text/plain": [
       "                 FILM  STARS  RATING  VOTES        film  year  stars_diff\n",
       "381  Turbo Kid (2015)    5.0     4.0      2  Turbo Kid   2015         1.0"
      ]
     },
     "execution_count": 57,
     "metadata": {},
     "output_type": "execute_result"
    }
   ],
   "source": [
    "# There is an occurance that Fandango.com rounded up by full 1 star!\n",
    "fandango_copy12[fandango_copy12[\"stars_diff\"]>0.5]"
   ]
  },
  {
   "cell_type": "code",
   "execution_count": null,
   "id": "12cb9db5-a070-41ac-b162-1f1736337bac",
   "metadata": {},
   "outputs": [],
   "source": [
    "# now lets Compare Fandango Ratings with Other Sites"
   ]
  },
  {
   "cell_type": "code",
   "execution_count": 59,
   "id": "79e7921b-8614-4de1-a44d-88b1447d5a9c",
   "metadata": {},
   "outputs": [],
   "source": [
    "all_sites = pd.read_csv(\"all_sites_scores.csv\")"
   ]
  },
  {
   "cell_type": "code",
   "execution_count": 61,
   "id": "84bef83d-2215-4102-8369-052bd5efc8a4",
   "metadata": {},
   "outputs": [
    {
     "data": {
      "text/html": [
       "<div>\n",
       "<style scoped>\n",
       "    .dataframe tbody tr th:only-of-type {\n",
       "        vertical-align: middle;\n",
       "    }\n",
       "\n",
       "    .dataframe tbody tr th {\n",
       "        vertical-align: top;\n",
       "    }\n",
       "\n",
       "    .dataframe thead th {\n",
       "        text-align: right;\n",
       "    }\n",
       "</style>\n",
       "<table border=\"1\" class=\"dataframe\">\n",
       "  <thead>\n",
       "    <tr style=\"text-align: right;\">\n",
       "      <th></th>\n",
       "      <th>FILM</th>\n",
       "      <th>RottenTomatoes</th>\n",
       "      <th>RottenTomatoes_User</th>\n",
       "      <th>Metacritic</th>\n",
       "      <th>Metacritic_User</th>\n",
       "      <th>IMDB</th>\n",
       "      <th>Metacritic_user_vote_count</th>\n",
       "      <th>IMDB_user_vote_count</th>\n",
       "    </tr>\n",
       "  </thead>\n",
       "  <tbody>\n",
       "    <tr>\n",
       "      <th>0</th>\n",
       "      <td>Avengers: Age of Ultron (2015)</td>\n",
       "      <td>74</td>\n",
       "      <td>86</td>\n",
       "      <td>66</td>\n",
       "      <td>7.1</td>\n",
       "      <td>7.8</td>\n",
       "      <td>1330</td>\n",
       "      <td>271107</td>\n",
       "    </tr>\n",
       "    <tr>\n",
       "      <th>1</th>\n",
       "      <td>Cinderella (2015)</td>\n",
       "      <td>85</td>\n",
       "      <td>80</td>\n",
       "      <td>67</td>\n",
       "      <td>7.5</td>\n",
       "      <td>7.1</td>\n",
       "      <td>249</td>\n",
       "      <td>65709</td>\n",
       "    </tr>\n",
       "    <tr>\n",
       "      <th>2</th>\n",
       "      <td>Ant-Man (2015)</td>\n",
       "      <td>80</td>\n",
       "      <td>90</td>\n",
       "      <td>64</td>\n",
       "      <td>8.1</td>\n",
       "      <td>7.8</td>\n",
       "      <td>627</td>\n",
       "      <td>103660</td>\n",
       "    </tr>\n",
       "    <tr>\n",
       "      <th>3</th>\n",
       "      <td>Do You Believe? (2015)</td>\n",
       "      <td>18</td>\n",
       "      <td>84</td>\n",
       "      <td>22</td>\n",
       "      <td>4.7</td>\n",
       "      <td>5.4</td>\n",
       "      <td>31</td>\n",
       "      <td>3136</td>\n",
       "    </tr>\n",
       "    <tr>\n",
       "      <th>4</th>\n",
       "      <td>Hot Tub Time Machine 2 (2015)</td>\n",
       "      <td>14</td>\n",
       "      <td>28</td>\n",
       "      <td>29</td>\n",
       "      <td>3.4</td>\n",
       "      <td>5.1</td>\n",
       "      <td>88</td>\n",
       "      <td>19560</td>\n",
       "    </tr>\n",
       "  </tbody>\n",
       "</table>\n",
       "</div>"
      ],
      "text/plain": [
       "                             FILM  RottenTomatoes  RottenTomatoes_User  \\\n",
       "0  Avengers: Age of Ultron (2015)              74                   86   \n",
       "1               Cinderella (2015)              85                   80   \n",
       "2                  Ant-Man (2015)              80                   90   \n",
       "3          Do You Believe? (2015)              18                   84   \n",
       "4   Hot Tub Time Machine 2 (2015)              14                   28   \n",
       "\n",
       "   Metacritic  Metacritic_User  IMDB  Metacritic_user_vote_count  \\\n",
       "0          66              7.1   7.8                        1330   \n",
       "1          67              7.5   7.1                         249   \n",
       "2          64              8.1   7.8                         627   \n",
       "3          22              4.7   5.4                          31   \n",
       "4          29              3.4   5.1                          88   \n",
       "\n",
       "   IMDB_user_vote_count  \n",
       "0                271107  \n",
       "1                 65709  \n",
       "2                103660  \n",
       "3                  3136  \n",
       "4                 19560  "
      ]
     },
     "execution_count": 61,
     "metadata": {},
     "output_type": "execute_result"
    }
   ],
   "source": [
    "all_sites.head()"
   ]
  },
  {
   "cell_type": "code",
   "execution_count": 63,
   "id": "182970e9-f59b-4c07-b4ca-47e3691fb5b8",
   "metadata": {},
   "outputs": [
    {
     "name": "stdout",
     "output_type": "stream",
     "text": [
      "<class 'pandas.core.frame.DataFrame'>\n",
      "RangeIndex: 146 entries, 0 to 145\n",
      "Data columns (total 8 columns):\n",
      " #   Column                      Non-Null Count  Dtype  \n",
      "---  ------                      --------------  -----  \n",
      " 0   FILM                        146 non-null    object \n",
      " 1   RottenTomatoes              146 non-null    int64  \n",
      " 2   RottenTomatoes_User         146 non-null    int64  \n",
      " 3   Metacritic                  146 non-null    int64  \n",
      " 4   Metacritic_User             146 non-null    float64\n",
      " 5   IMDB                        146 non-null    float64\n",
      " 6   Metacritic_user_vote_count  146 non-null    int64  \n",
      " 7   IMDB_user_vote_count        146 non-null    int64  \n",
      "dtypes: float64(2), int64(5), object(1)\n",
      "memory usage: 9.3+ KB\n"
     ]
    }
   ],
   "source": [
    "all_sites.info()"
   ]
  },
  {
   "cell_type": "code",
   "execution_count": 65,
   "id": "5df89c3f-974e-4ad3-96c2-1d772d5caefa",
   "metadata": {},
   "outputs": [
    {
     "data": {
      "text/plain": [
       "0"
      ]
     },
     "execution_count": 65,
     "metadata": {},
     "output_type": "execute_result"
    }
   ],
   "source": [
    "all_sites.duplicated().sum()"
   ]
  },
  {
   "cell_type": "code",
   "execution_count": 69,
   "id": "d14a469a-47bc-4773-88d0-72003f7c6b7f",
   "metadata": {},
   "outputs": [
    {
     "data": {
      "text/html": [
       "<div>\n",
       "<style scoped>\n",
       "    .dataframe tbody tr th:only-of-type {\n",
       "        vertical-align: middle;\n",
       "    }\n",
       "\n",
       "    .dataframe tbody tr th {\n",
       "        vertical-align: top;\n",
       "    }\n",
       "\n",
       "    .dataframe thead th {\n",
       "        text-align: right;\n",
       "    }\n",
       "</style>\n",
       "<table border=\"1\" class=\"dataframe\">\n",
       "  <thead>\n",
       "    <tr style=\"text-align: right;\">\n",
       "      <th></th>\n",
       "      <th>RottenTomatoes</th>\n",
       "      <th>RottenTomatoes_User</th>\n",
       "      <th>Metacritic</th>\n",
       "      <th>Metacritic_User</th>\n",
       "      <th>IMDB</th>\n",
       "      <th>Metacritic_user_vote_count</th>\n",
       "      <th>IMDB_user_vote_count</th>\n",
       "    </tr>\n",
       "  </thead>\n",
       "  <tbody>\n",
       "    <tr>\n",
       "      <th>count</th>\n",
       "      <td>146.000000</td>\n",
       "      <td>146.000000</td>\n",
       "      <td>146.000000</td>\n",
       "      <td>146.000000</td>\n",
       "      <td>146.000000</td>\n",
       "      <td>146.000000</td>\n",
       "      <td>146.000000</td>\n",
       "    </tr>\n",
       "    <tr>\n",
       "      <th>mean</th>\n",
       "      <td>60.849315</td>\n",
       "      <td>63.876712</td>\n",
       "      <td>58.808219</td>\n",
       "      <td>6.519178</td>\n",
       "      <td>6.736986</td>\n",
       "      <td>185.705479</td>\n",
       "      <td>42846.205479</td>\n",
       "    </tr>\n",
       "    <tr>\n",
       "      <th>std</th>\n",
       "      <td>30.168799</td>\n",
       "      <td>20.024430</td>\n",
       "      <td>19.517389</td>\n",
       "      <td>1.510712</td>\n",
       "      <td>0.958736</td>\n",
       "      <td>316.606515</td>\n",
       "      <td>67406.509171</td>\n",
       "    </tr>\n",
       "    <tr>\n",
       "      <th>min</th>\n",
       "      <td>5.000000</td>\n",
       "      <td>20.000000</td>\n",
       "      <td>13.000000</td>\n",
       "      <td>2.400000</td>\n",
       "      <td>4.000000</td>\n",
       "      <td>4.000000</td>\n",
       "      <td>243.000000</td>\n",
       "    </tr>\n",
       "    <tr>\n",
       "      <th>25%</th>\n",
       "      <td>31.250000</td>\n",
       "      <td>50.000000</td>\n",
       "      <td>43.500000</td>\n",
       "      <td>5.700000</td>\n",
       "      <td>6.300000</td>\n",
       "      <td>33.250000</td>\n",
       "      <td>5627.000000</td>\n",
       "    </tr>\n",
       "    <tr>\n",
       "      <th>50%</th>\n",
       "      <td>63.500000</td>\n",
       "      <td>66.500000</td>\n",
       "      <td>59.000000</td>\n",
       "      <td>6.850000</td>\n",
       "      <td>6.900000</td>\n",
       "      <td>72.500000</td>\n",
       "      <td>19103.000000</td>\n",
       "    </tr>\n",
       "    <tr>\n",
       "      <th>75%</th>\n",
       "      <td>89.000000</td>\n",
       "      <td>81.000000</td>\n",
       "      <td>75.000000</td>\n",
       "      <td>7.500000</td>\n",
       "      <td>7.400000</td>\n",
       "      <td>168.500000</td>\n",
       "      <td>45185.750000</td>\n",
       "    </tr>\n",
       "    <tr>\n",
       "      <th>max</th>\n",
       "      <td>100.000000</td>\n",
       "      <td>94.000000</td>\n",
       "      <td>94.000000</td>\n",
       "      <td>9.600000</td>\n",
       "      <td>8.600000</td>\n",
       "      <td>2375.000000</td>\n",
       "      <td>334164.000000</td>\n",
       "    </tr>\n",
       "  </tbody>\n",
       "</table>\n",
       "</div>"
      ],
      "text/plain": [
       "       RottenTomatoes  RottenTomatoes_User  Metacritic  Metacritic_User  \\\n",
       "count      146.000000           146.000000  146.000000       146.000000   \n",
       "mean        60.849315            63.876712   58.808219         6.519178   \n",
       "std         30.168799            20.024430   19.517389         1.510712   \n",
       "min          5.000000            20.000000   13.000000         2.400000   \n",
       "25%         31.250000            50.000000   43.500000         5.700000   \n",
       "50%         63.500000            66.500000   59.000000         6.850000   \n",
       "75%         89.000000            81.000000   75.000000         7.500000   \n",
       "max        100.000000            94.000000   94.000000         9.600000   \n",
       "\n",
       "             IMDB  Metacritic_user_vote_count  IMDB_user_vote_count  \n",
       "count  146.000000                  146.000000            146.000000  \n",
       "mean     6.736986                  185.705479          42846.205479  \n",
       "std      0.958736                  316.606515          67406.509171  \n",
       "min      4.000000                    4.000000            243.000000  \n",
       "25%      6.300000                   33.250000           5627.000000  \n",
       "50%      6.900000                   72.500000          19103.000000  \n",
       "75%      7.400000                  168.500000          45185.750000  \n",
       "max      8.600000                 2375.000000         334164.000000  "
      ]
     },
     "execution_count": 69,
     "metadata": {},
     "output_type": "execute_result"
    }
   ],
   "source": [
    "# all_sites data is small too, it has 146 non null rows and 8 columns with no duplicates.\n",
    "all_sites.describe()"
   ]
  },
  {
   "cell_type": "code",
   "execution_count": null,
   "id": "92329f0e-12ad-4f93-b306-0f5c36fd7426",
   "metadata": {},
   "outputs": [],
   "source": [
    "# Let's start with films based on Rotten Tomatoes scores."
   ]
  },
  {
   "cell_type": "code",
   "execution_count": 71,
   "id": "0d140169-eb75-4d71-b39a-ee8e15f28b95",
   "metadata": {},
   "outputs": [
    {
     "data": {
      "text/html": [
       "<div>\n",
       "<style scoped>\n",
       "    .dataframe tbody tr th:only-of-type {\n",
       "        vertical-align: middle;\n",
       "    }\n",
       "\n",
       "    .dataframe tbody tr th {\n",
       "        vertical-align: top;\n",
       "    }\n",
       "\n",
       "    .dataframe thead th {\n",
       "        text-align: right;\n",
       "    }\n",
       "</style>\n",
       "<table border=\"1\" class=\"dataframe\">\n",
       "  <thead>\n",
       "    <tr style=\"text-align: right;\">\n",
       "      <th></th>\n",
       "      <th>RottenTomatoes</th>\n",
       "      <th>RottenTomatoes_User</th>\n",
       "    </tr>\n",
       "  </thead>\n",
       "  <tbody>\n",
       "    <tr>\n",
       "      <th>RottenTomatoes</th>\n",
       "      <td>1.00000</td>\n",
       "      <td>0.78144</td>\n",
       "    </tr>\n",
       "    <tr>\n",
       "      <th>RottenTomatoes_User</th>\n",
       "      <td>0.78144</td>\n",
       "      <td>1.00000</td>\n",
       "    </tr>\n",
       "  </tbody>\n",
       "</table>\n",
       "</div>"
      ],
      "text/plain": [
       "                     RottenTomatoes  RottenTomatoes_User\n",
       "RottenTomatoes              1.00000              0.78144\n",
       "RottenTomatoes_User         0.78144              1.00000"
      ]
     },
     "execution_count": 71,
     "metadata": {},
     "output_type": "execute_result"
    },
    {
     "data": {
      "image/png": "[encoded data removed]",
      "text/plain": [
       "<Figure size 640x480 with 1 Axes>"
      ]
     },
     "metadata": {},
     "output_type": "display_data"
    }
   ],
   "source": [
    "# a scatterplot exploring the relationship between RT Critic reviews and RT User reviews.\n",
    "sns.scatterplot(data=all_sites,x=\"RottenTomatoes\",y=\"RottenTomatoes_User\")\n",
    "all_sites[[\"RottenTomatoes\",\"RottenTomatoes_User\"]].corr()\n",
    "# critics' reviews and users' reviews are correlated as expected, but not perfectly."
   ]
  },
  {
   "cell_type": "code",
   "execution_count": 73,
   "id": "644e7117-5b8e-4a0a-88b1-6ca2792aeca5",
   "metadata": {},
   "outputs": [
    {
     "data": {
      "text/html": [
       "<div>\n",
       "<style scoped>\n",
       "    .dataframe tbody tr th:only-of-type {\n",
       "        vertical-align: middle;\n",
       "    }\n",
       "\n",
       "    .dataframe tbody tr th {\n",
       "        vertical-align: top;\n",
       "    }\n",
       "\n",
       "    .dataframe thead th {\n",
       "        text-align: right;\n",
       "    }\n",
       "</style>\n",
       "<table border=\"1\" class=\"dataframe\">\n",
       "  <thead>\n",
       "    <tr style=\"text-align: right;\">\n",
       "      <th></th>\n",
       "      <th>FILM</th>\n",
       "      <th>RottenTomatoes</th>\n",
       "      <th>RottenTomatoes_User</th>\n",
       "      <th>Metacritic</th>\n",
       "      <th>Metacritic_User</th>\n",
       "      <th>IMDB</th>\n",
       "      <th>Metacritic_user_vote_count</th>\n",
       "      <th>IMDB_user_vote_count</th>\n",
       "      <th>RT_diff</th>\n",
       "    </tr>\n",
       "  </thead>\n",
       "  <tbody>\n",
       "    <tr>\n",
       "      <th>0</th>\n",
       "      <td>Avengers: Age of Ultron (2015)</td>\n",
       "      <td>74</td>\n",
       "      <td>86</td>\n",
       "      <td>66</td>\n",
       "      <td>7.1</td>\n",
       "      <td>7.8</td>\n",
       "      <td>1330</td>\n",
       "      <td>271107</td>\n",
       "      <td>-12</td>\n",
       "    </tr>\n",
       "    <tr>\n",
       "      <th>1</th>\n",
       "      <td>Cinderella (2015)</td>\n",
       "      <td>85</td>\n",
       "      <td>80</td>\n",
       "      <td>67</td>\n",
       "      <td>7.5</td>\n",
       "      <td>7.1</td>\n",
       "      <td>249</td>\n",
       "      <td>65709</td>\n",
       "      <td>5</td>\n",
       "    </tr>\n",
       "    <tr>\n",
       "      <th>2</th>\n",
       "      <td>Ant-Man (2015)</td>\n",
       "      <td>80</td>\n",
       "      <td>90</td>\n",
       "      <td>64</td>\n",
       "      <td>8.1</td>\n",
       "      <td>7.8</td>\n",
       "      <td>627</td>\n",
       "      <td>103660</td>\n",
       "      <td>-10</td>\n",
       "    </tr>\n",
       "    <tr>\n",
       "      <th>3</th>\n",
       "      <td>Do You Believe? (2015)</td>\n",
       "      <td>18</td>\n",
       "      <td>84</td>\n",
       "      <td>22</td>\n",
       "      <td>4.7</td>\n",
       "      <td>5.4</td>\n",
       "      <td>31</td>\n",
       "      <td>3136</td>\n",
       "      <td>-66</td>\n",
       "    </tr>\n",
       "    <tr>\n",
       "      <th>4</th>\n",
       "      <td>Hot Tub Time Machine 2 (2015)</td>\n",
       "      <td>14</td>\n",
       "      <td>28</td>\n",
       "      <td>29</td>\n",
       "      <td>3.4</td>\n",
       "      <td>5.1</td>\n",
       "      <td>88</td>\n",
       "      <td>19560</td>\n",
       "      <td>-14</td>\n",
       "    </tr>\n",
       "  </tbody>\n",
       "</table>\n",
       "</div>"
      ],
      "text/plain": [
       "                             FILM  RottenTomatoes  RottenTomatoes_User  \\\n",
       "0  Avengers: Age of Ultron (2015)              74                   86   \n",
       "1               Cinderella (2015)              85                   80   \n",
       "2                  Ant-Man (2015)              80                   90   \n",
       "3          Do You Believe? (2015)              18                   84   \n",
       "4   Hot Tub Time Machine 2 (2015)              14                   28   \n",
       "\n",
       "   Metacritic  Metacritic_User  IMDB  Metacritic_user_vote_count  \\\n",
       "0          66              7.1   7.8                        1330   \n",
       "1          67              7.5   7.1                         249   \n",
       "2          64              8.1   7.8                         627   \n",
       "3          22              4.7   5.4                          31   \n",
       "4          29              3.4   5.1                          88   \n",
       "\n",
       "   IMDB_user_vote_count  RT_diff  \n",
       "0                271107      -12  \n",
       "1                 65709        5  \n",
       "2                103660      -10  \n",
       "3                  3136      -66  \n",
       "4                 19560      -14  "
      ]
     },
     "execution_count": 73,
     "metadata": {},
     "output_type": "execute_result"
    }
   ],
   "source": [
    "# Let's quantify this difference by comparing the critics ratings and the RT User ratings.Note: Rotten_Diff here is Critics - User Score. So values closer to 0 means aggrement between Critics and Users. Larger positive values means critics rated much higher than users. Larger negative values means users rated much higher than critics.\n",
    "all_sites[\"RT_diff\"]=all_sites[\"RottenTomatoes\"]-all_sites[\"RottenTomatoes_User\"]\n",
    "all_sites.head()"
   ]
  },
  {
   "cell_type": "code",
   "execution_count": 75,
   "id": "6d4a9c5e-5953-4981-aa81-fd62d8cc64e2",
   "metadata": {},
   "outputs": [
    {
     "data": {
      "text/plain": [
       "15.095890410958905"
      ]
     },
     "execution_count": 75,
     "metadata": {},
     "output_type": "execute_result"
    }
   ],
   "source": [
    "# Let's now compare the overall mean difference. Since we're dealing with differences that could be negative or positive, first take the absolute value of all the differences, then take the mean. This would report back on average to absolute difference between the critics rating versus the user rating.\n",
    "abs(all_sites[\"RT_diff\"]).mean()"
   ]
  },
  {
   "cell_type": "code",
   "execution_count": 77,
   "id": "f3b2cc4d-9b2b-4bc8-9a8f-69258afc83bc",
   "metadata": {},
   "outputs": [
    {
     "data": {
      "text/plain": [
       "<Axes: xlabel='RT_diff', ylabel='Count'>"
      ]
     },
     "execution_count": 77,
     "metadata": {},
     "output_type": "execute_result"
    },
    {
     "data": {
      "image/png": "[encoded data removed]",
      "text/plain": [
       "<Figure size 1000x500 with 1 Axes>"
      ]
     },
     "metadata": {},
     "output_type": "display_data"
    }
   ],
   "source": [
    "#  the distribution of the differences between RT Critics Score and RT User Score.\n",
    "plt.figure(figsize=(10,5))\n",
    "sns.histplot(data=all_sites,x=\"RT_diff\",bins=30,kde=True)\n",
    "# mostly cumulated around 0 but there are some occurances that difference being quite large like negative 60 or positive 40 that shows conflict in users and critics' reviews"
   ]
  },
  {
   "cell_type": "code",
   "execution_count": 79,
   "id": "139c689a-046a-4298-8183-29fa9a1469a6",
   "metadata": {},
   "outputs": [
    {
     "data": {
      "text/plain": [
       "<Axes: xlabel='RT_diff', ylabel='Count'>"
      ]
     },
     "execution_count": 79,
     "metadata": {},
     "output_type": "execute_result"
    },
    {
     "data": {
      "image/png": "[encoded data removed]",
      "text/plain": [
       "<Figure size 640x480 with 1 Axes>"
      ]
     },
     "metadata": {},
     "output_type": "display_data"
    }
   ],
   "source": [
    "# a distribution showing the absolute value difference\n",
    "sns.histplot(data=all_sites,x=abs(all_sites[\"RT_diff\"]),bins=30,kde=True)"
   ]
  },
  {
   "cell_type": "code",
   "execution_count": 81,
   "id": "cde4dd33-e4e8-43e1-9e8d-f7889fc094b3",
   "metadata": {},
   "outputs": [
    {
     "data": {
      "text/html": [
       "<div>\n",
       "<style scoped>\n",
       "    .dataframe tbody tr th:only-of-type {\n",
       "        vertical-align: middle;\n",
       "    }\n",
       "\n",
       "    .dataframe tbody tr th {\n",
       "        vertical-align: top;\n",
       "    }\n",
       "\n",
       "    .dataframe thead th {\n",
       "        text-align: right;\n",
       "    }\n",
       "</style>\n",
       "<table border=\"1\" class=\"dataframe\">\n",
       "  <thead>\n",
       "    <tr style=\"text-align: right;\">\n",
       "      <th></th>\n",
       "      <th>FILM</th>\n",
       "      <th>RT_diff</th>\n",
       "    </tr>\n",
       "  </thead>\n",
       "  <tbody>\n",
       "    <tr>\n",
       "      <th>3</th>\n",
       "      <td>Do You Believe? (2015)</td>\n",
       "      <td>-66</td>\n",
       "    </tr>\n",
       "    <tr>\n",
       "      <th>85</th>\n",
       "      <td>Little Boy (2015)</td>\n",
       "      <td>-61</td>\n",
       "    </tr>\n",
       "    <tr>\n",
       "      <th>134</th>\n",
       "      <td>The Longest Ride (2015)</td>\n",
       "      <td>-42</td>\n",
       "    </tr>\n",
       "    <tr>\n",
       "      <th>105</th>\n",
       "      <td>Hitman: Agent 47 (2015)</td>\n",
       "      <td>-42</td>\n",
       "    </tr>\n",
       "    <tr>\n",
       "      <th>125</th>\n",
       "      <td>The Wedding Ringer (2015)</td>\n",
       "      <td>-39</td>\n",
       "    </tr>\n",
       "  </tbody>\n",
       "</table>\n",
       "</div>"
      ],
      "text/plain": [
       "                          FILM  RT_diff\n",
       "3       Do You Believe? (2015)      -66\n",
       "85           Little Boy (2015)      -61\n",
       "134    The Longest Ride (2015)      -42\n",
       "105    Hitman: Agent 47 (2015)      -42\n",
       "125  The Wedding Ringer (2015)      -39"
      ]
     },
     "execution_count": 81,
     "metadata": {},
     "output_type": "execute_result"
    }
   ],
   "source": [
    "# Let's find out which movies are causing the largest differences. First, lets see the top 5 movies that users love but critics hate (rotten Tomatoes)\n",
    "all_sites[[\"FILM\",\"RT_diff\"]].sort_values(\"RT_diff\",ascending=True).head(5)"
   ]
  },
  {
   "cell_type": "code",
   "execution_count": 83,
   "id": "f6fe33fe-e708-4dd9-b1ca-9bc677c9078e",
   "metadata": {},
   "outputs": [
    {
     "data": {
      "text/html": [
       "<div>\n",
       "<style scoped>\n",
       "    .dataframe tbody tr th:only-of-type {\n",
       "        vertical-align: middle;\n",
       "    }\n",
       "\n",
       "    .dataframe tbody tr th {\n",
       "        vertical-align: top;\n",
       "    }\n",
       "\n",
       "    .dataframe thead th {\n",
       "        text-align: right;\n",
       "    }\n",
       "</style>\n",
       "<table border=\"1\" class=\"dataframe\">\n",
       "  <thead>\n",
       "    <tr style=\"text-align: right;\">\n",
       "      <th></th>\n",
       "      <th>FILM</th>\n",
       "      <th>RT_diff</th>\n",
       "    </tr>\n",
       "  </thead>\n",
       "  <tbody>\n",
       "    <tr>\n",
       "      <th>69</th>\n",
       "      <td>Mr. Turner (2014)</td>\n",
       "      <td>42</td>\n",
       "    </tr>\n",
       "    <tr>\n",
       "      <th>112</th>\n",
       "      <td>It Follows (2015)</td>\n",
       "      <td>31</td>\n",
       "    </tr>\n",
       "    <tr>\n",
       "      <th>115</th>\n",
       "      <td>While We're Young (2015)</td>\n",
       "      <td>31</td>\n",
       "    </tr>\n",
       "    <tr>\n",
       "      <th>145</th>\n",
       "      <td>Kumiko, The Treasure Hunter (2015)</td>\n",
       "      <td>24</td>\n",
       "    </tr>\n",
       "    <tr>\n",
       "      <th>37</th>\n",
       "      <td>Welcome to Me (2015)</td>\n",
       "      <td>24</td>\n",
       "    </tr>\n",
       "  </tbody>\n",
       "</table>\n",
       "</div>"
      ],
      "text/plain": [
       "                                   FILM  RT_diff\n",
       "69                    Mr. Turner (2014)       42\n",
       "112                   It Follows (2015)       31\n",
       "115            While We're Young (2015)       31\n",
       "145  Kumiko, The Treasure Hunter (2015)       24\n",
       "37                 Welcome to Me (2015)       24"
      ]
     },
     "execution_count": 83,
     "metadata": {},
     "output_type": "execute_result"
    }
   ],
   "source": [
    "# Critics love, but Users Hate\n",
    "all_sites[[\"FILM\",\"RT_diff\"]].sort_values(\"RT_diff\",ascending=False).head(5)"
   ]
  },
  {
   "cell_type": "code",
   "execution_count": null,
   "id": "88dc9990-827f-4100-9419-5994508be879",
   "metadata": {},
   "outputs": [],
   "source": [
    "# lets move on with Metacritic"
   ]
  },
  {
   "cell_type": "code",
   "execution_count": 85,
   "id": "774466f5-6dde-4ae2-8613-4c2ca59334d4",
   "metadata": {},
   "outputs": [
    {
     "data": {
      "text/html": [
       "<div>\n",
       "<style scoped>\n",
       "    .dataframe tbody tr th:only-of-type {\n",
       "        vertical-align: middle;\n",
       "    }\n",
       "\n",
       "    .dataframe tbody tr th {\n",
       "        vertical-align: top;\n",
       "    }\n",
       "\n",
       "    .dataframe thead th {\n",
       "        text-align: right;\n",
       "    }\n",
       "</style>\n",
       "<table border=\"1\" class=\"dataframe\">\n",
       "  <thead>\n",
       "    <tr style=\"text-align: right;\">\n",
       "      <th></th>\n",
       "      <th>Metacritic</th>\n",
       "      <th>Metacritic_User</th>\n",
       "    </tr>\n",
       "  </thead>\n",
       "  <tbody>\n",
       "    <tr>\n",
       "      <th>Metacritic</th>\n",
       "      <td>1.000000</td>\n",
       "      <td>0.723459</td>\n",
       "    </tr>\n",
       "    <tr>\n",
       "      <th>Metacritic_User</th>\n",
       "      <td>0.723459</td>\n",
       "      <td>1.000000</td>\n",
       "    </tr>\n",
       "  </tbody>\n",
       "</table>\n",
       "</div>"
      ],
      "text/plain": [
       "                 Metacritic  Metacritic_User\n",
       "Metacritic         1.000000         0.723459\n",
       "Metacritic_User    0.723459         1.000000"
      ]
     },
     "execution_count": 85,
     "metadata": {},
     "output_type": "execute_result"
    },
    {
     "data": {
      "image/png": "[encoded data removed]",
      "text/plain": [
       "<Figure size 640x480 with 1 Axes>"
      ]
     },
     "metadata": {},
     "output_type": "display_data"
    }
   ],
   "source": [
    "#  a scatterplot of the Metacritic Rating versus the Metacritic User rating.\n",
    "sns.scatterplot(data=all_sites,x=\"Metacritic\",y=\"Metacritic_User\")\n",
    "all_sites[[\"Metacritic\",\"Metacritic_User\"]].corr()\n",
    "# again not perfectly but correlated, nothing unusual"
   ]
  },
  {
   "cell_type": "code",
   "execution_count": 99,
   "id": "a0839756-c175-4ffe-9191-5f377a02b664",
   "metadata": {},
   "outputs": [
    {
     "data": {
      "text/html": [
       "<div>\n",
       "<style scoped>\n",
       "    .dataframe tbody tr th:only-of-type {\n",
       "        vertical-align: middle;\n",
       "    }\n",
       "\n",
       "    .dataframe tbody tr th {\n",
       "        vertical-align: top;\n",
       "    }\n",
       "\n",
       "    .dataframe thead th {\n",
       "        text-align: right;\n",
       "    }\n",
       "</style>\n",
       "<table border=\"1\" class=\"dataframe\">\n",
       "  <thead>\n",
       "    <tr style=\"text-align: right;\">\n",
       "      <th></th>\n",
       "      <th>RottenTomatoes</th>\n",
       "      <th>RottenTomatoes_User</th>\n",
       "      <th>Metacritic</th>\n",
       "      <th>Metacritic_User</th>\n",
       "      <th>IMDB</th>\n",
       "      <th>Metacritic_user_vote_count</th>\n",
       "      <th>IMDB_user_vote_count</th>\n",
       "      <th>RT_diff</th>\n",
       "    </tr>\n",
       "  </thead>\n",
       "  <tbody>\n",
       "    <tr>\n",
       "      <th>count</th>\n",
       "      <td>146.000000</td>\n",
       "      <td>146.000000</td>\n",
       "      <td>146.000000</td>\n",
       "      <td>146.000000</td>\n",
       "      <td>146.000000</td>\n",
       "      <td>146.000000</td>\n",
       "      <td>146.000000</td>\n",
       "      <td>146.000000</td>\n",
       "    </tr>\n",
       "    <tr>\n",
       "      <th>mean</th>\n",
       "      <td>60.849315</td>\n",
       "      <td>63.876712</td>\n",
       "      <td>58.808219</td>\n",
       "      <td>6.519178</td>\n",
       "      <td>6.736986</td>\n",
       "      <td>185.705479</td>\n",
       "      <td>42846.205479</td>\n",
       "      <td>-3.027397</td>\n",
       "    </tr>\n",
       "    <tr>\n",
       "      <th>std</th>\n",
       "      <td>30.168799</td>\n",
       "      <td>20.024430</td>\n",
       "      <td>19.517389</td>\n",
       "      <td>1.510712</td>\n",
       "      <td>0.958736</td>\n",
       "      <td>316.606515</td>\n",
       "      <td>67406.509171</td>\n",
       "      <td>19.156684</td>\n",
       "    </tr>\n",
       "    <tr>\n",
       "      <th>min</th>\n",
       "      <td>5.000000</td>\n",
       "      <td>20.000000</td>\n",
       "      <td>13.000000</td>\n",
       "      <td>2.400000</td>\n",
       "      <td>4.000000</td>\n",
       "      <td>4.000000</td>\n",
       "      <td>243.000000</td>\n",
       "      <td>-66.000000</td>\n",
       "    </tr>\n",
       "    <tr>\n",
       "      <th>25%</th>\n",
       "      <td>31.250000</td>\n",
       "      <td>50.000000</td>\n",
       "      <td>43.500000</td>\n",
       "      <td>5.700000</td>\n",
       "      <td>6.300000</td>\n",
       "      <td>33.250000</td>\n",
       "      <td>5627.000000</td>\n",
       "      <td>-14.000000</td>\n",
       "    </tr>\n",
       "    <tr>\n",
       "      <th>50%</th>\n",
       "      <td>63.500000</td>\n",
       "      <td>66.500000</td>\n",
       "      <td>59.000000</td>\n",
       "      <td>6.850000</td>\n",
       "      <td>6.900000</td>\n",
       "      <td>72.500000</td>\n",
       "      <td>19103.000000</td>\n",
       "      <td>0.000000</td>\n",
       "    </tr>\n",
       "    <tr>\n",
       "      <th>75%</th>\n",
       "      <td>89.000000</td>\n",
       "      <td>81.000000</td>\n",
       "      <td>75.000000</td>\n",
       "      <td>7.500000</td>\n",
       "      <td>7.400000</td>\n",
       "      <td>168.500000</td>\n",
       "      <td>45185.750000</td>\n",
       "      <td>10.750000</td>\n",
       "    </tr>\n",
       "    <tr>\n",
       "      <th>max</th>\n",
       "      <td>100.000000</td>\n",
       "      <td>94.000000</td>\n",
       "      <td>94.000000</td>\n",
       "      <td>9.600000</td>\n",
       "      <td>8.600000</td>\n",
       "      <td>2375.000000</td>\n",
       "      <td>334164.000000</td>\n",
       "      <td>42.000000</td>\n",
       "    </tr>\n",
       "  </tbody>\n",
       "</table>\n",
       "</div>"
      ],
      "text/plain": [
       "       RottenTomatoes  RottenTomatoes_User  Metacritic  Metacritic_User  \\\n",
       "count      146.000000           146.000000  146.000000       146.000000   \n",
       "mean        60.849315            63.876712   58.808219         6.519178   \n",
       "std         30.168799            20.024430   19.517389         1.510712   \n",
       "min          5.000000            20.000000   13.000000         2.400000   \n",
       "25%         31.250000            50.000000   43.500000         5.700000   \n",
       "50%         63.500000            66.500000   59.000000         6.850000   \n",
       "75%         89.000000            81.000000   75.000000         7.500000   \n",
       "max        100.000000            94.000000   94.000000         9.600000   \n",
       "\n",
       "             IMDB  Metacritic_user_vote_count  IMDB_user_vote_count  \\\n",
       "count  146.000000                  146.000000            146.000000   \n",
       "mean     6.736986                  185.705479          42846.205479   \n",
       "std      0.958736                  316.606515          67406.509171   \n",
       "min      4.000000                    4.000000            243.000000   \n",
       "25%      6.300000                   33.250000           5627.000000   \n",
       "50%      6.900000                   72.500000          19103.000000   \n",
       "75%      7.400000                  168.500000          45185.750000   \n",
       "max      8.600000                 2375.000000         334164.000000   \n",
       "\n",
       "          RT_diff  \n",
       "count  146.000000  \n",
       "mean    -3.027397  \n",
       "std     19.156684  \n",
       "min    -66.000000  \n",
       "25%    -14.000000  \n",
       "50%      0.000000  \n",
       "75%     10.750000  \n",
       "max     42.000000  "
      ]
     },
     "execution_count": 99,
     "metadata": {},
     "output_type": "execute_result"
    }
   ],
   "source": [
    "all_sites.describe()"
   ]
  },
  {
   "cell_type": "code",
   "execution_count": 89,
   "id": "ac855c76-390c-4022-a66b-ce66a9c42516",
   "metadata": {},
   "outputs": [
    {
     "data": {
      "text/html": [
       "<div>\n",
       "<style scoped>\n",
       "    .dataframe tbody tr th:only-of-type {\n",
       "        vertical-align: middle;\n",
       "    }\n",
       "\n",
       "    .dataframe tbody tr th {\n",
       "        vertical-align: top;\n",
       "    }\n",
       "\n",
       "    .dataframe thead th {\n",
       "        text-align: right;\n",
       "    }\n",
       "</style>\n",
       "<table border=\"1\" class=\"dataframe\">\n",
       "  <thead>\n",
       "    <tr style=\"text-align: right;\">\n",
       "      <th></th>\n",
       "      <th>Metacritic_user_vote_count</th>\n",
       "      <th>IMDB_user_vote_count</th>\n",
       "    </tr>\n",
       "  </thead>\n",
       "  <tbody>\n",
       "    <tr>\n",
       "      <th>Metacritic_user_vote_count</th>\n",
       "      <td>1.000000</td>\n",
       "      <td>0.880635</td>\n",
       "    </tr>\n",
       "    <tr>\n",
       "      <th>IMDB_user_vote_count</th>\n",
       "      <td>0.880635</td>\n",
       "      <td>1.000000</td>\n",
       "    </tr>\n",
       "  </tbody>\n",
       "</table>\n",
       "</div>"
      ],
      "text/plain": [
       "                            Metacritic_user_vote_count  IMDB_user_vote_count\n",
       "Metacritic_user_vote_count                    1.000000              0.880635\n",
       "IMDB_user_vote_count                          0.880635              1.000000"
      ]
     },
     "execution_count": 89,
     "metadata": {},
     "output_type": "execute_result"
    },
    {
     "data": {
      "image/png": "[encoded data removed]",
      "text/plain": [
       "<Figure size 640x480 with 1 Axes>"
      ]
     },
     "metadata": {},
     "output_type": "display_data"
    }
   ],
   "source": [
    "# Finally let's explore IMDB. Notice that both Metacritic and IMDB report vote counts. Let's analyze the most popular movies.\n",
    "sns.scatterplot(data=all_sites,x=\"Metacritic_user_vote_count\",y=\"IMDB_user_vote_count\")\n",
    "all_sites[[\"Metacritic_user_vote_count\",\"IMDB_user_vote_count\"]].corr()"
   ]
  },
  {
   "cell_type": "code",
   "execution_count": 91,
   "id": "75c1863c-2518-45e9-9869-ef5a48457ca9",
   "metadata": {},
   "outputs": [
    {
     "data": {
      "text/html": [
       "<div>\n",
       "<style scoped>\n",
       "    .dataframe tbody tr th:only-of-type {\n",
       "        vertical-align: middle;\n",
       "    }\n",
       "\n",
       "    .dataframe tbody tr th {\n",
       "        vertical-align: top;\n",
       "    }\n",
       "\n",
       "    .dataframe thead th {\n",
       "        text-align: right;\n",
       "    }\n",
       "</style>\n",
       "<table border=\"1\" class=\"dataframe\">\n",
       "  <thead>\n",
       "    <tr style=\"text-align: right;\">\n",
       "      <th></th>\n",
       "      <th>FILM</th>\n",
       "      <th>RottenTomatoes</th>\n",
       "      <th>RottenTomatoes_User</th>\n",
       "      <th>Metacritic</th>\n",
       "      <th>Metacritic_User</th>\n",
       "      <th>IMDB</th>\n",
       "      <th>Metacritic_user_vote_count</th>\n",
       "      <th>IMDB_user_vote_count</th>\n",
       "      <th>RT_diff</th>\n",
       "    </tr>\n",
       "  </thead>\n",
       "  <tbody>\n",
       "    <tr>\n",
       "      <th>14</th>\n",
       "      <td>The Imitation Game (2014)</td>\n",
       "      <td>90</td>\n",
       "      <td>92</td>\n",
       "      <td>73</td>\n",
       "      <td>8.2</td>\n",
       "      <td>8.1</td>\n",
       "      <td>566</td>\n",
       "      <td>334164</td>\n",
       "      <td>-2</td>\n",
       "    </tr>\n",
       "  </tbody>\n",
       "</table>\n",
       "</div>"
      ],
      "text/plain": [
       "                         FILM  RottenTomatoes  RottenTomatoes_User  \\\n",
       "14  The Imitation Game (2014)              90                   92   \n",
       "\n",
       "    Metacritic  Metacritic_User  IMDB  Metacritic_user_vote_count  \\\n",
       "14          73              8.2   8.1                         566   \n",
       "\n",
       "    IMDB_user_vote_count  RT_diff  \n",
       "14                334164       -2  "
      ]
     },
     "execution_count": 91,
     "metadata": {},
     "output_type": "execute_result"
    }
   ],
   "source": [
    "# there are two outliers here. The movie with the highest vote count on IMDB only has about 500 Metacritic ratings. What is this movie?\n",
    "# IMDB users' favorite\n",
    "all_sites[all_sites[\"IMDB_user_vote_count\"]==all_sites[\"IMDB_user_vote_count\"].max()]"
   ]
  },
  {
   "cell_type": "code",
   "execution_count": 95,
   "id": "7bb907ac-d2fd-4044-b7e1-5b09bfea1966",
   "metadata": {},
   "outputs": [
    {
     "data": {
      "text/html": [
       "<div>\n",
       "<style scoped>\n",
       "    .dataframe tbody tr th:only-of-type {\n",
       "        vertical-align: middle;\n",
       "    }\n",
       "\n",
       "    .dataframe tbody tr th {\n",
       "        vertical-align: top;\n",
       "    }\n",
       "\n",
       "    .dataframe thead th {\n",
       "        text-align: right;\n",
       "    }\n",
       "</style>\n",
       "<table border=\"1\" class=\"dataframe\">\n",
       "  <thead>\n",
       "    <tr style=\"text-align: right;\">\n",
       "      <th></th>\n",
       "      <th>FILM</th>\n",
       "      <th>RottenTomatoes</th>\n",
       "      <th>RottenTomatoes_User</th>\n",
       "      <th>Metacritic</th>\n",
       "      <th>Metacritic_User</th>\n",
       "      <th>IMDB</th>\n",
       "      <th>Metacritic_user_vote_count</th>\n",
       "      <th>IMDB_user_vote_count</th>\n",
       "      <th>RT_diff</th>\n",
       "    </tr>\n",
       "  </thead>\n",
       "  <tbody>\n",
       "    <tr>\n",
       "      <th>88</th>\n",
       "      <td>Mad Max: Fury Road (2015)</td>\n",
       "      <td>97</td>\n",
       "      <td>88</td>\n",
       "      <td>89</td>\n",
       "      <td>8.7</td>\n",
       "      <td>8.3</td>\n",
       "      <td>2375</td>\n",
       "      <td>292023</td>\n",
       "      <td>9</td>\n",
       "    </tr>\n",
       "  </tbody>\n",
       "</table>\n",
       "</div>"
      ],
      "text/plain": [
       "                         FILM  RottenTomatoes  RottenTomatoes_User  \\\n",
       "88  Mad Max: Fury Road (2015)              97                   88   \n",
       "\n",
       "    Metacritic  Metacritic_User  IMDB  Metacritic_user_vote_count  \\\n",
       "88          89              8.7   8.3                        2375   \n",
       "\n",
       "    IMDB_user_vote_count  RT_diff  \n",
       "88                292023        9  "
      ]
     },
     "execution_count": 95,
     "metadata": {},
     "output_type": "execute_result"
    }
   ],
   "source": [
    "# Metacritic users' favorite\n",
    "all_sites[all_sites[\"Metacritic_user_vote_count\"]==all_sites[\"Metacritic_user_vote_count\"].max()]"
   ]
  },
  {
   "cell_type": "code",
   "execution_count": null,
   "id": "95215609-a1d9-4c80-a5f0-bf4d6be08417",
   "metadata": {},
   "outputs": [],
   "source": [
    "# Finally let's begin to explore whether or not Fandango artificially displays higher ratings than other sites to boost ticket sales.\n",
    "# first lets combine that tables with inner join\n",
    "# in order to do that i need to make compatible that two table e.g. changing column names or in all_sites table FILM column has both film name and year i need to split them as before i did to fandango table "
   ]
  },
  {
   "cell_type": "code",
   "execution_count": 97,
   "id": "f97ca2b6-00f9-4b9e-9931-16c976bcf0c4",
   "metadata": {},
   "outputs": [],
   "source": [
    "fandango_copy11.head()\n",
    "fandango_copy112=fandango_copy11.copy()\n",
    "fandango_copy112=fandango_copy112.drop(\"FILM\",axis=1)\n",
    "fandango_copy112.rename(columns={\"film\":\"FILM\"},inplace=True)"
   ]
  },
  {
   "cell_type": "code",
   "execution_count": 99,
   "id": "5ae3a770-5be6-4405-9a04-3e4ad654276e",
   "metadata": {},
   "outputs": [
    {
     "name": "stdout",
     "output_type": "stream",
     "text": [
      "Antony and Cleopatra (Stratford Festival) \n",
      "Antony and Cleopatra (Stratford Festival)\n"
     ]
    }
   ],
   "source": [
    "# in fandango table there remained a unnecessary space at the end of the film names, i removed that.\n",
    "print(fandango_copy112[\"FILM\"].iloc[222])\n",
    "print(fandango_copy112[\"FILM\"].str.strip().iloc[222])"
   ]
  },
  {
   "cell_type": "code",
   "execution_count": 101,
   "id": "31622b1f-0567-4119-a21c-2c26e9d1693f",
   "metadata": {},
   "outputs": [],
   "source": [
    "fandango_copy112[\"FILM\"]=fandango_copy112[\"FILM\"].str.strip()"
   ]
  },
  {
   "cell_type": "code",
   "execution_count": 103,
   "id": "8a32cf03-c600-4d5e-9c58-29608cd23606",
   "metadata": {},
   "outputs": [
    {
     "data": {
      "text/html": [
       "<div>\n",
       "<style scoped>\n",
       "    .dataframe tbody tr th:only-of-type {\n",
       "        vertical-align: middle;\n",
       "    }\n",
       "\n",
       "    .dataframe tbody tr th {\n",
       "        vertical-align: top;\n",
       "    }\n",
       "\n",
       "    .dataframe thead th {\n",
       "        text-align: right;\n",
       "    }\n",
       "</style>\n",
       "<table border=\"1\" class=\"dataframe\">\n",
       "  <thead>\n",
       "    <tr style=\"text-align: right;\">\n",
       "      <th></th>\n",
       "      <th>FILM</th>\n",
       "      <th>RottenTomatoes</th>\n",
       "      <th>RottenTomatoes_User</th>\n",
       "      <th>Metacritic</th>\n",
       "      <th>Metacritic_User</th>\n",
       "      <th>IMDB</th>\n",
       "      <th>Metacritic_user_vote_count</th>\n",
       "      <th>IMDB_user_vote_count</th>\n",
       "      <th>RT_diff</th>\n",
       "    </tr>\n",
       "  </thead>\n",
       "  <tbody>\n",
       "    <tr>\n",
       "      <th>0</th>\n",
       "      <td>Avengers: Age of Ultron (2015)</td>\n",
       "      <td>74</td>\n",
       "      <td>86</td>\n",
       "      <td>66</td>\n",
       "      <td>7.1</td>\n",
       "      <td>7.8</td>\n",
       "      <td>1330</td>\n",
       "      <td>271107</td>\n",
       "      <td>-12</td>\n",
       "    </tr>\n",
       "    <tr>\n",
       "      <th>1</th>\n",
       "      <td>Cinderella (2015)</td>\n",
       "      <td>85</td>\n",
       "      <td>80</td>\n",
       "      <td>67</td>\n",
       "      <td>7.5</td>\n",
       "      <td>7.1</td>\n",
       "      <td>249</td>\n",
       "      <td>65709</td>\n",
       "      <td>5</td>\n",
       "    </tr>\n",
       "    <tr>\n",
       "      <th>2</th>\n",
       "      <td>Ant-Man (2015)</td>\n",
       "      <td>80</td>\n",
       "      <td>90</td>\n",
       "      <td>64</td>\n",
       "      <td>8.1</td>\n",
       "      <td>7.8</td>\n",
       "      <td>627</td>\n",
       "      <td>103660</td>\n",
       "      <td>-10</td>\n",
       "    </tr>\n",
       "    <tr>\n",
       "      <th>3</th>\n",
       "      <td>Do You Believe? (2015)</td>\n",
       "      <td>18</td>\n",
       "      <td>84</td>\n",
       "      <td>22</td>\n",
       "      <td>4.7</td>\n",
       "      <td>5.4</td>\n",
       "      <td>31</td>\n",
       "      <td>3136</td>\n",
       "      <td>-66</td>\n",
       "    </tr>\n",
       "    <tr>\n",
       "      <th>4</th>\n",
       "      <td>Hot Tub Time Machine 2 (2015)</td>\n",
       "      <td>14</td>\n",
       "      <td>28</td>\n",
       "      <td>29</td>\n",
       "      <td>3.4</td>\n",
       "      <td>5.1</td>\n",
       "      <td>88</td>\n",
       "      <td>19560</td>\n",
       "      <td>-14</td>\n",
       "    </tr>\n",
       "  </tbody>\n",
       "</table>\n",
       "</div>"
      ],
      "text/plain": [
       "                             FILM  RottenTomatoes  RottenTomatoes_User  \\\n",
       "0  Avengers: Age of Ultron (2015)              74                   86   \n",
       "1               Cinderella (2015)              85                   80   \n",
       "2                  Ant-Man (2015)              80                   90   \n",
       "3          Do You Believe? (2015)              18                   84   \n",
       "4   Hot Tub Time Machine 2 (2015)              14                   28   \n",
       "\n",
       "   Metacritic  Metacritic_User  IMDB  Metacritic_user_vote_count  \\\n",
       "0          66              7.1   7.8                        1330   \n",
       "1          67              7.5   7.1                         249   \n",
       "2          64              8.1   7.8                         627   \n",
       "3          22              4.7   5.4                          31   \n",
       "4          29              3.4   5.1                          88   \n",
       "\n",
       "   IMDB_user_vote_count  RT_diff  \n",
       "0                271107      -12  \n",
       "1                 65709        5  \n",
       "2                103660      -10  \n",
       "3                  3136      -66  \n",
       "4                 19560      -14  "
      ]
     },
     "execution_count": 103,
     "metadata": {},
     "output_type": "execute_result"
    }
   ],
   "source": [
    "all_sites.head()"
   ]
  },
  {
   "cell_type": "code",
   "execution_count": 105,
   "id": "835f9278-c633-4093-a31b-bdd8342437e5",
   "metadata": {},
   "outputs": [
    {
     "data": {
      "text/html": [
       "<div>\n",
       "<style scoped>\n",
       "    .dataframe tbody tr th:only-of-type {\n",
       "        vertical-align: middle;\n",
       "    }\n",
       "\n",
       "    .dataframe tbody tr th {\n",
       "        vertical-align: top;\n",
       "    }\n",
       "\n",
       "    .dataframe thead th {\n",
       "        text-align: right;\n",
       "    }\n",
       "</style>\n",
       "<table border=\"1\" class=\"dataframe\">\n",
       "  <thead>\n",
       "    <tr style=\"text-align: right;\">\n",
       "      <th></th>\n",
       "      <th>STARS</th>\n",
       "      <th>RATING</th>\n",
       "      <th>VOTES</th>\n",
       "      <th>FILM</th>\n",
       "      <th>year</th>\n",
       "    </tr>\n",
       "  </thead>\n",
       "  <tbody>\n",
       "    <tr>\n",
       "      <th>0</th>\n",
       "      <td>4.0</td>\n",
       "      <td>3.9</td>\n",
       "      <td>34846</td>\n",
       "      <td>Fifty Shades of Grey</td>\n",
       "      <td>2015</td>\n",
       "    </tr>\n",
       "    <tr>\n",
       "      <th>1</th>\n",
       "      <td>4.5</td>\n",
       "      <td>4.5</td>\n",
       "      <td>34390</td>\n",
       "      <td>Jurassic World</td>\n",
       "      <td>2015</td>\n",
       "    </tr>\n",
       "    <tr>\n",
       "      <th>2</th>\n",
       "      <td>5.0</td>\n",
       "      <td>4.8</td>\n",
       "      <td>34085</td>\n",
       "      <td>American Sniper</td>\n",
       "      <td>2015</td>\n",
       "    </tr>\n",
       "    <tr>\n",
       "      <th>3</th>\n",
       "      <td>5.0</td>\n",
       "      <td>4.8</td>\n",
       "      <td>33538</td>\n",
       "      <td>Furious 7</td>\n",
       "      <td>2015</td>\n",
       "    </tr>\n",
       "    <tr>\n",
       "      <th>4</th>\n",
       "      <td>4.5</td>\n",
       "      <td>4.5</td>\n",
       "      <td>15749</td>\n",
       "      <td>Inside Out</td>\n",
       "      <td>2015</td>\n",
       "    </tr>\n",
       "  </tbody>\n",
       "</table>\n",
       "</div>"
      ],
      "text/plain": [
       "   STARS  RATING  VOTES                  FILM  year\n",
       "0    4.0     3.9  34846  Fifty Shades of Grey  2015\n",
       "1    4.5     4.5  34390        Jurassic World  2015\n",
       "2    5.0     4.8  34085       American Sniper  2015\n",
       "3    5.0     4.8  33538             Furious 7  2015\n",
       "4    4.5     4.5  15749            Inside Out  2015"
      ]
     },
     "execution_count": 105,
     "metadata": {},
     "output_type": "execute_result"
    }
   ],
   "source": [
    "fandango_copy112.head()"
   ]
  },
  {
   "cell_type": "code",
   "execution_count": 107,
   "id": "a0bb631e-709c-4f0e-8868-b2c768880a3a",
   "metadata": {},
   "outputs": [],
   "source": [
    "all_sites_copy11=all_sites.copy()"
   ]
  },
  {
   "cell_type": "code",
   "execution_count": 109,
   "id": "92ff6659-d245-4e0d-8e1c-aba78e0f3bb2",
   "metadata": {},
   "outputs": [
    {
     "data": {
      "text/html": [
       "<div>\n",
       "<style scoped>\n",
       "    .dataframe tbody tr th:only-of-type {\n",
       "        vertical-align: middle;\n",
       "    }\n",
       "\n",
       "    .dataframe tbody tr th {\n",
       "        vertical-align: top;\n",
       "    }\n",
       "\n",
       "    .dataframe thead th {\n",
       "        text-align: right;\n",
       "    }\n",
       "</style>\n",
       "<table border=\"1\" class=\"dataframe\">\n",
       "  <thead>\n",
       "    <tr style=\"text-align: right;\">\n",
       "      <th></th>\n",
       "      <th>FILM</th>\n",
       "      <th>RottenTomatoes</th>\n",
       "      <th>RottenTomatoes_User</th>\n",
       "      <th>Metacritic</th>\n",
       "      <th>Metacritic_User</th>\n",
       "      <th>IMDB</th>\n",
       "      <th>Metacritic_user_vote_count</th>\n",
       "      <th>IMDB_user_vote_count</th>\n",
       "      <th>RT_diff</th>\n",
       "    </tr>\n",
       "  </thead>\n",
       "  <tbody>\n",
       "    <tr>\n",
       "      <th>0</th>\n",
       "      <td>Avengers: Age of Ultron (2015)</td>\n",
       "      <td>74</td>\n",
       "      <td>86</td>\n",
       "      <td>66</td>\n",
       "      <td>7.1</td>\n",
       "      <td>7.8</td>\n",
       "      <td>1330</td>\n",
       "      <td>271107</td>\n",
       "      <td>-12</td>\n",
       "    </tr>\n",
       "    <tr>\n",
       "      <th>1</th>\n",
       "      <td>Cinderella (2015)</td>\n",
       "      <td>85</td>\n",
       "      <td>80</td>\n",
       "      <td>67</td>\n",
       "      <td>7.5</td>\n",
       "      <td>7.1</td>\n",
       "      <td>249</td>\n",
       "      <td>65709</td>\n",
       "      <td>5</td>\n",
       "    </tr>\n",
       "    <tr>\n",
       "      <th>2</th>\n",
       "      <td>Ant-Man (2015)</td>\n",
       "      <td>80</td>\n",
       "      <td>90</td>\n",
       "      <td>64</td>\n",
       "      <td>8.1</td>\n",
       "      <td>7.8</td>\n",
       "      <td>627</td>\n",
       "      <td>103660</td>\n",
       "      <td>-10</td>\n",
       "    </tr>\n",
       "    <tr>\n",
       "      <th>3</th>\n",
       "      <td>Do You Believe? (2015)</td>\n",
       "      <td>18</td>\n",
       "      <td>84</td>\n",
       "      <td>22</td>\n",
       "      <td>4.7</td>\n",
       "      <td>5.4</td>\n",
       "      <td>31</td>\n",
       "      <td>3136</td>\n",
       "      <td>-66</td>\n",
       "    </tr>\n",
       "    <tr>\n",
       "      <th>4</th>\n",
       "      <td>Hot Tub Time Machine 2 (2015)</td>\n",
       "      <td>14</td>\n",
       "      <td>28</td>\n",
       "      <td>29</td>\n",
       "      <td>3.4</td>\n",
       "      <td>5.1</td>\n",
       "      <td>88</td>\n",
       "      <td>19560</td>\n",
       "      <td>-14</td>\n",
       "    </tr>\n",
       "  </tbody>\n",
       "</table>\n",
       "</div>"
      ],
      "text/plain": [
       "                             FILM  RottenTomatoes  RottenTomatoes_User  \\\n",
       "0  Avengers: Age of Ultron (2015)              74                   86   \n",
       "1               Cinderella (2015)              85                   80   \n",
       "2                  Ant-Man (2015)              80                   90   \n",
       "3          Do You Believe? (2015)              18                   84   \n",
       "4   Hot Tub Time Machine 2 (2015)              14                   28   \n",
       "\n",
       "   Metacritic  Metacritic_User  IMDB  Metacritic_user_vote_count  \\\n",
       "0          66              7.1   7.8                        1330   \n",
       "1          67              7.5   7.1                         249   \n",
       "2          64              8.1   7.8                         627   \n",
       "3          22              4.7   5.4                          31   \n",
       "4          29              3.4   5.1                          88   \n",
       "\n",
       "   IMDB_user_vote_count  RT_diff  \n",
       "0                271107      -12  \n",
       "1                 65709        5  \n",
       "2                103660      -10  \n",
       "3                  3136      -66  \n",
       "4                 19560      -14  "
      ]
     },
     "execution_count": 109,
     "metadata": {},
     "output_type": "execute_result"
    }
   ],
   "source": [
    "all_sites_copy11.head()"
   ]
  },
  {
   "cell_type": "code",
   "execution_count": 111,
   "id": "fefa7c6f-a45d-480a-85c9-65d76644eeed",
   "metadata": {},
   "outputs": [],
   "source": [
    "all_sites_copy11[\"FILM\"].str.rsplit(\"(\",n=1)\n",
    "all_sites_copy11[\"film\"]=all_sites_copy11[\"FILM\"].str.rsplit(\"(\",n=1).str[0].str.strip()"
   ]
  },
  {
   "cell_type": "code",
   "execution_count": 113,
   "id": "c92aa383-41aa-47e3-a170-0accfb297147",
   "metadata": {},
   "outputs": [],
   "source": [
    "all_sites_copy11[\"year\"]=all_sites_copy11[\"FILM\"].str.rsplit(\"(\",n=1).str[1].str.split(\")\").str[0]"
   ]
  },
  {
   "cell_type": "code",
   "execution_count": 117,
   "id": "995fba8a-dd9f-4506-baf3-5750b67e953a",
   "metadata": {},
   "outputs": [
    {
     "data": {
      "text/html": [
       "<div>\n",
       "<style scoped>\n",
       "    .dataframe tbody tr th:only-of-type {\n",
       "        vertical-align: middle;\n",
       "    }\n",
       "\n",
       "    .dataframe tbody tr th {\n",
       "        vertical-align: top;\n",
       "    }\n",
       "\n",
       "    .dataframe thead th {\n",
       "        text-align: right;\n",
       "    }\n",
       "</style>\n",
       "<table border=\"1\" class=\"dataframe\">\n",
       "  <thead>\n",
       "    <tr style=\"text-align: right;\">\n",
       "      <th></th>\n",
       "      <th>FILM</th>\n",
       "      <th>RottenTomatoes</th>\n",
       "      <th>RottenTomatoes_User</th>\n",
       "      <th>Metacritic</th>\n",
       "      <th>Metacritic_User</th>\n",
       "      <th>IMDB</th>\n",
       "      <th>Metacritic_user_vote_count</th>\n",
       "      <th>IMDB_user_vote_count</th>\n",
       "      <th>RT_diff</th>\n",
       "      <th>film</th>\n",
       "      <th>year</th>\n",
       "    </tr>\n",
       "  </thead>\n",
       "  <tbody>\n",
       "    <tr>\n",
       "      <th>0</th>\n",
       "      <td>Avengers: Age of Ultron (2015)</td>\n",
       "      <td>74</td>\n",
       "      <td>86</td>\n",
       "      <td>66</td>\n",
       "      <td>7.1</td>\n",
       "      <td>7.8</td>\n",
       "      <td>1330</td>\n",
       "      <td>271107</td>\n",
       "      <td>-12</td>\n",
       "      <td>Avengers: Age of Ultron</td>\n",
       "      <td>2015</td>\n",
       "    </tr>\n",
       "    <tr>\n",
       "      <th>1</th>\n",
       "      <td>Cinderella (2015)</td>\n",
       "      <td>85</td>\n",
       "      <td>80</td>\n",
       "      <td>67</td>\n",
       "      <td>7.5</td>\n",
       "      <td>7.1</td>\n",
       "      <td>249</td>\n",
       "      <td>65709</td>\n",
       "      <td>5</td>\n",
       "      <td>Cinderella</td>\n",
       "      <td>2015</td>\n",
       "    </tr>\n",
       "    <tr>\n",
       "      <th>2</th>\n",
       "      <td>Ant-Man (2015)</td>\n",
       "      <td>80</td>\n",
       "      <td>90</td>\n",
       "      <td>64</td>\n",
       "      <td>8.1</td>\n",
       "      <td>7.8</td>\n",
       "      <td>627</td>\n",
       "      <td>103660</td>\n",
       "      <td>-10</td>\n",
       "      <td>Ant-Man</td>\n",
       "      <td>2015</td>\n",
       "    </tr>\n",
       "    <tr>\n",
       "      <th>3</th>\n",
       "      <td>Do You Believe? (2015)</td>\n",
       "      <td>18</td>\n",
       "      <td>84</td>\n",
       "      <td>22</td>\n",
       "      <td>4.7</td>\n",
       "      <td>5.4</td>\n",
       "      <td>31</td>\n",
       "      <td>3136</td>\n",
       "      <td>-66</td>\n",
       "      <td>Do You Believe?</td>\n",
       "      <td>2015</td>\n",
       "    </tr>\n",
       "    <tr>\n",
       "      <th>4</th>\n",
       "      <td>Hot Tub Time Machine 2 (2015)</td>\n",
       "      <td>14</td>\n",
       "      <td>28</td>\n",
       "      <td>29</td>\n",
       "      <td>3.4</td>\n",
       "      <td>5.1</td>\n",
       "      <td>88</td>\n",
       "      <td>19560</td>\n",
       "      <td>-14</td>\n",
       "      <td>Hot Tub Time Machine 2</td>\n",
       "      <td>2015</td>\n",
       "    </tr>\n",
       "  </tbody>\n",
       "</table>\n",
       "</div>"
      ],
      "text/plain": [
       "                             FILM  RottenTomatoes  RottenTomatoes_User  \\\n",
       "0  Avengers: Age of Ultron (2015)              74                   86   \n",
       "1               Cinderella (2015)              85                   80   \n",
       "2                  Ant-Man (2015)              80                   90   \n",
       "3          Do You Believe? (2015)              18                   84   \n",
       "4   Hot Tub Time Machine 2 (2015)              14                   28   \n",
       "\n",
       "   Metacritic  Metacritic_User  IMDB  Metacritic_user_vote_count  \\\n",
       "0          66              7.1   7.8                        1330   \n",
       "1          67              7.5   7.1                         249   \n",
       "2          64              8.1   7.8                         627   \n",
       "3          22              4.7   5.4                          31   \n",
       "4          29              3.4   5.1                          88   \n",
       "\n",
       "   IMDB_user_vote_count  RT_diff                     film  year  \n",
       "0                271107      -12  Avengers: Age of Ultron  2015  \n",
       "1                 65709        5               Cinderella  2015  \n",
       "2                103660      -10                  Ant-Man  2015  \n",
       "3                  3136      -66          Do You Believe?  2015  \n",
       "4                 19560      -14   Hot Tub Time Machine 2  2015  "
      ]
     },
     "execution_count": 117,
     "metadata": {},
     "output_type": "execute_result"
    }
   ],
   "source": [
    "all_sites_copy11.head()"
   ]
  },
  {
   "cell_type": "code",
   "execution_count": 119,
   "id": "6e2f8b3e-09ed-426e-b4ad-774b11dc8d93",
   "metadata": {},
   "outputs": [],
   "source": [
    "all_sites_copy11.drop(\"FILM\",axis=1,inplace=True)"
   ]
  },
  {
   "cell_type": "code",
   "execution_count": 121,
   "id": "e40573be-f2da-4a31-95cc-dbcc2b6d34bb",
   "metadata": {},
   "outputs": [],
   "source": [
    "all_sites_copy11.rename(columns={\"film\":\"FILM\"},inplace=True)"
   ]
  },
  {
   "cell_type": "code",
   "execution_count": 123,
   "id": "334ad5b6-1c32-43ca-85bf-d749bccaefc6",
   "metadata": {},
   "outputs": [
    {
     "data": {
      "text/html": [
       "<div>\n",
       "<style scoped>\n",
       "    .dataframe tbody tr th:only-of-type {\n",
       "        vertical-align: middle;\n",
       "    }\n",
       "\n",
       "    .dataframe tbody tr th {\n",
       "        vertical-align: top;\n",
       "    }\n",
       "\n",
       "    .dataframe thead th {\n",
       "        text-align: right;\n",
       "    }\n",
       "</style>\n",
       "<table border=\"1\" class=\"dataframe\">\n",
       "  <thead>\n",
       "    <tr style=\"text-align: right;\">\n",
       "      <th></th>\n",
       "      <th>RottenTomatoes</th>\n",
       "      <th>RottenTomatoes_User</th>\n",
       "      <th>Metacritic</th>\n",
       "      <th>Metacritic_User</th>\n",
       "      <th>IMDB</th>\n",
       "      <th>Metacritic_user_vote_count</th>\n",
       "      <th>IMDB_user_vote_count</th>\n",
       "      <th>RT_diff</th>\n",
       "      <th>FILM</th>\n",
       "      <th>year</th>\n",
       "    </tr>\n",
       "  </thead>\n",
       "  <tbody>\n",
       "    <tr>\n",
       "      <th>0</th>\n",
       "      <td>74</td>\n",
       "      <td>86</td>\n",
       "      <td>66</td>\n",
       "      <td>7.1</td>\n",
       "      <td>7.8</td>\n",
       "      <td>1330</td>\n",
       "      <td>271107</td>\n",
       "      <td>-12</td>\n",
       "      <td>Avengers: Age of Ultron</td>\n",
       "      <td>2015</td>\n",
       "    </tr>\n",
       "    <tr>\n",
       "      <th>1</th>\n",
       "      <td>85</td>\n",
       "      <td>80</td>\n",
       "      <td>67</td>\n",
       "      <td>7.5</td>\n",
       "      <td>7.1</td>\n",
       "      <td>249</td>\n",
       "      <td>65709</td>\n",
       "      <td>5</td>\n",
       "      <td>Cinderella</td>\n",
       "      <td>2015</td>\n",
       "    </tr>\n",
       "    <tr>\n",
       "      <th>2</th>\n",
       "      <td>80</td>\n",
       "      <td>90</td>\n",
       "      <td>64</td>\n",
       "      <td>8.1</td>\n",
       "      <td>7.8</td>\n",
       "      <td>627</td>\n",
       "      <td>103660</td>\n",
       "      <td>-10</td>\n",
       "      <td>Ant-Man</td>\n",
       "      <td>2015</td>\n",
       "    </tr>\n",
       "    <tr>\n",
       "      <th>3</th>\n",
       "      <td>18</td>\n",
       "      <td>84</td>\n",
       "      <td>22</td>\n",
       "      <td>4.7</td>\n",
       "      <td>5.4</td>\n",
       "      <td>31</td>\n",
       "      <td>3136</td>\n",
       "      <td>-66</td>\n",
       "      <td>Do You Believe?</td>\n",
       "      <td>2015</td>\n",
       "    </tr>\n",
       "    <tr>\n",
       "      <th>4</th>\n",
       "      <td>14</td>\n",
       "      <td>28</td>\n",
       "      <td>29</td>\n",
       "      <td>3.4</td>\n",
       "      <td>5.1</td>\n",
       "      <td>88</td>\n",
       "      <td>19560</td>\n",
       "      <td>-14</td>\n",
       "      <td>Hot Tub Time Machine 2</td>\n",
       "      <td>2015</td>\n",
       "    </tr>\n",
       "  </tbody>\n",
       "</table>\n",
       "</div>"
      ],
      "text/plain": [
       "   RottenTomatoes  RottenTomatoes_User  Metacritic  Metacritic_User  IMDB  \\\n",
       "0              74                   86          66              7.1   7.8   \n",
       "1              85                   80          67              7.5   7.1   \n",
       "2              80                   90          64              8.1   7.8   \n",
       "3              18                   84          22              4.7   5.4   \n",
       "4              14                   28          29              3.4   5.1   \n",
       "\n",
       "   Metacritic_user_vote_count  IMDB_user_vote_count  RT_diff  \\\n",
       "0                        1330                271107      -12   \n",
       "1                         249                 65709        5   \n",
       "2                         627                103660      -10   \n",
       "3                          31                  3136      -66   \n",
       "4                          88                 19560      -14   \n",
       "\n",
       "                      FILM  year  \n",
       "0  Avengers: Age of Ultron  2015  \n",
       "1               Cinderella  2015  \n",
       "2                  Ant-Man  2015  \n",
       "3          Do You Believe?  2015  \n",
       "4   Hot Tub Time Machine 2  2015  "
      ]
     },
     "execution_count": 123,
     "metadata": {},
     "output_type": "execute_result"
    }
   ],
   "source": [
    "all_sites_copy11.head()"
   ]
  },
  {
   "cell_type": "code",
   "execution_count": 125,
   "id": "b5665600-db79-49f2-8f0d-f39be391509c",
   "metadata": {},
   "outputs": [],
   "source": [
    "# now i can merge them\n",
    "merged=pd.merge(all_sites_copy11,fandango_copy112,on=[\"FILM\",\"year\"],how=\"inner\")"
   ]
  },
  {
   "cell_type": "code",
   "execution_count": 127,
   "id": "8e5125cd-45e2-4981-8194-f2f19403d85e",
   "metadata": {},
   "outputs": [
    {
     "data": {
      "text/html": [
       "<div>\n",
       "<style scoped>\n",
       "    .dataframe tbody tr th:only-of-type {\n",
       "        vertical-align: middle;\n",
       "    }\n",
       "\n",
       "    .dataframe tbody tr th {\n",
       "        vertical-align: top;\n",
       "    }\n",
       "\n",
       "    .dataframe thead th {\n",
       "        text-align: right;\n",
       "    }\n",
       "</style>\n",
       "<table border=\"1\" class=\"dataframe\">\n",
       "  <thead>\n",
       "    <tr style=\"text-align: right;\">\n",
       "      <th></th>\n",
       "      <th>RottenTomatoes</th>\n",
       "      <th>RottenTomatoes_User</th>\n",
       "      <th>Metacritic</th>\n",
       "      <th>Metacritic_User</th>\n",
       "      <th>IMDB</th>\n",
       "      <th>Metacritic_user_vote_count</th>\n",
       "      <th>IMDB_user_vote_count</th>\n",
       "      <th>RT_diff</th>\n",
       "      <th>FILM</th>\n",
       "      <th>year</th>\n",
       "      <th>STARS</th>\n",
       "      <th>RATING</th>\n",
       "      <th>VOTES</th>\n",
       "    </tr>\n",
       "  </thead>\n",
       "  <tbody>\n",
       "    <tr>\n",
       "      <th>0</th>\n",
       "      <td>74</td>\n",
       "      <td>86</td>\n",
       "      <td>66</td>\n",
       "      <td>7.1</td>\n",
       "      <td>7.8</td>\n",
       "      <td>1330</td>\n",
       "      <td>271107</td>\n",
       "      <td>-12</td>\n",
       "      <td>Avengers: Age of Ultron</td>\n",
       "      <td>2015</td>\n",
       "      <td>5.0</td>\n",
       "      <td>4.5</td>\n",
       "      <td>14846</td>\n",
       "    </tr>\n",
       "    <tr>\n",
       "      <th>1</th>\n",
       "      <td>85</td>\n",
       "      <td>80</td>\n",
       "      <td>67</td>\n",
       "      <td>7.5</td>\n",
       "      <td>7.1</td>\n",
       "      <td>249</td>\n",
       "      <td>65709</td>\n",
       "      <td>5</td>\n",
       "      <td>Cinderella</td>\n",
       "      <td>2015</td>\n",
       "      <td>5.0</td>\n",
       "      <td>4.5</td>\n",
       "      <td>12640</td>\n",
       "    </tr>\n",
       "    <tr>\n",
       "      <th>2</th>\n",
       "      <td>80</td>\n",
       "      <td>90</td>\n",
       "      <td>64</td>\n",
       "      <td>8.1</td>\n",
       "      <td>7.8</td>\n",
       "      <td>627</td>\n",
       "      <td>103660</td>\n",
       "      <td>-10</td>\n",
       "      <td>Ant-Man</td>\n",
       "      <td>2015</td>\n",
       "      <td>5.0</td>\n",
       "      <td>4.5</td>\n",
       "      <td>12055</td>\n",
       "    </tr>\n",
       "    <tr>\n",
       "      <th>3</th>\n",
       "      <td>18</td>\n",
       "      <td>84</td>\n",
       "      <td>22</td>\n",
       "      <td>4.7</td>\n",
       "      <td>5.4</td>\n",
       "      <td>31</td>\n",
       "      <td>3136</td>\n",
       "      <td>-66</td>\n",
       "      <td>Do You Believe?</td>\n",
       "      <td>2015</td>\n",
       "      <td>5.0</td>\n",
       "      <td>4.5</td>\n",
       "      <td>1793</td>\n",
       "    </tr>\n",
       "    <tr>\n",
       "      <th>4</th>\n",
       "      <td>14</td>\n",
       "      <td>28</td>\n",
       "      <td>29</td>\n",
       "      <td>3.4</td>\n",
       "      <td>5.1</td>\n",
       "      <td>88</td>\n",
       "      <td>19560</td>\n",
       "      <td>-14</td>\n",
       "      <td>Hot Tub Time Machine 2</td>\n",
       "      <td>2015</td>\n",
       "      <td>3.5</td>\n",
       "      <td>3.0</td>\n",
       "      <td>1021</td>\n",
       "    </tr>\n",
       "  </tbody>\n",
       "</table>\n",
       "</div>"
      ],
      "text/plain": [
       "   RottenTomatoes  RottenTomatoes_User  Metacritic  Metacritic_User  IMDB  \\\n",
       "0              74                   86          66              7.1   7.8   \n",
       "1              85                   80          67              7.5   7.1   \n",
       "2              80                   90          64              8.1   7.8   \n",
       "3              18                   84          22              4.7   5.4   \n",
       "4              14                   28          29              3.4   5.1   \n",
       "\n",
       "   Metacritic_user_vote_count  IMDB_user_vote_count  RT_diff  \\\n",
       "0                        1330                271107      -12   \n",
       "1                         249                 65709        5   \n",
       "2                         627                103660      -10   \n",
       "3                          31                  3136      -66   \n",
       "4                          88                 19560      -14   \n",
       "\n",
       "                      FILM  year  STARS  RATING  VOTES  \n",
       "0  Avengers: Age of Ultron  2015    5.0     4.5  14846  \n",
       "1               Cinderella  2015    5.0     4.5  12640  \n",
       "2                  Ant-Man  2015    5.0     4.5  12055  \n",
       "3          Do You Believe?  2015    5.0     4.5   1793  \n",
       "4   Hot Tub Time Machine 2  2015    3.5     3.0   1021  "
      ]
     },
     "execution_count": 127,
     "metadata": {},
     "output_type": "execute_result"
    }
   ],
   "source": [
    "merged.head()"
   ]
  },
  {
   "cell_type": "code",
   "execution_count": 129,
   "id": "2b03f38f-4ba1-478f-87e0-177b3955457e",
   "metadata": {},
   "outputs": [
    {
     "name": "stdout",
     "output_type": "stream",
     "text": [
      "<class 'pandas.core.frame.DataFrame'>\n",
      "RangeIndex: 145 entries, 0 to 144\n",
      "Data columns (total 13 columns):\n",
      " #   Column                      Non-Null Count  Dtype  \n",
      "---  ------                      --------------  -----  \n",
      " 0   RottenTomatoes              145 non-null    int64  \n",
      " 1   RottenTomatoes_User         145 non-null    int64  \n",
      " 2   Metacritic                  145 non-null    int64  \n",
      " 3   Metacritic_User             145 non-null    float64\n",
      " 4   IMDB                        145 non-null    float64\n",
      " 5   Metacritic_user_vote_count  145 non-null    int64  \n",
      " 6   IMDB_user_vote_count        145 non-null    int64  \n",
      " 7   RT_diff                     145 non-null    int64  \n",
      " 8   FILM                        145 non-null    object \n",
      " 9   year                        145 non-null    object \n",
      " 10  STARS                       145 non-null    float64\n",
      " 11  RATING                      145 non-null    float64\n",
      " 12  VOTES                       145 non-null    int64  \n",
      "dtypes: float64(4), int64(7), object(2)\n",
      "memory usage: 14.9+ KB\n"
     ]
    }
   ],
   "source": [
    "merged.info()"
   ]
  },
  {
   "cell_type": "code",
   "execution_count": null,
   "id": "b5969034-cffa-4814-b6ca-b3d3873fc526",
   "metadata": {},
   "outputs": [],
   "source": [
    "# Notice that RT,Metacritic, and IMDB don't use a score between 0-5 stars like Fandango does. In order to do a fair comparison, i need to normalize these values so they all fall between 0-5 stars and the relationship between reviews stays the same."
   ]
  },
  {
   "cell_type": "code",
   "execution_count": 131,
   "id": "0aabd221-965d-4ff8-8299-5818ecff9557",
   "metadata": {},
   "outputs": [],
   "source": [
    "merged_copy11=merged.copy()"
   ]
  },
  {
   "cell_type": "code",
   "execution_count": 135,
   "id": "44d24eb7-a141-4559-80b3-e1511a5f7fb1",
   "metadata": {},
   "outputs": [
    {
     "data": {
      "text/html": [
       "<div>\n",
       "<style scoped>\n",
       "    .dataframe tbody tr th:only-of-type {\n",
       "        vertical-align: middle;\n",
       "    }\n",
       "\n",
       "    .dataframe tbody tr th {\n",
       "        vertical-align: top;\n",
       "    }\n",
       "\n",
       "    .dataframe thead th {\n",
       "        text-align: right;\n",
       "    }\n",
       "</style>\n",
       "<table border=\"1\" class=\"dataframe\">\n",
       "  <thead>\n",
       "    <tr style=\"text-align: right;\">\n",
       "      <th></th>\n",
       "      <th>RottenTomatoes</th>\n",
       "      <th>RottenTomatoes_User</th>\n",
       "      <th>Metacritic</th>\n",
       "      <th>Metacritic_User</th>\n",
       "      <th>IMDB</th>\n",
       "      <th>Metacritic_user_vote_count</th>\n",
       "      <th>IMDB_user_vote_count</th>\n",
       "      <th>RT_diff</th>\n",
       "      <th>STARS</th>\n",
       "      <th>RATING</th>\n",
       "      <th>VOTES</th>\n",
       "    </tr>\n",
       "  </thead>\n",
       "  <tbody>\n",
       "    <tr>\n",
       "      <th>count</th>\n",
       "      <td>145.000000</td>\n",
       "      <td>145.000000</td>\n",
       "      <td>145.000000</td>\n",
       "      <td>145.000000</td>\n",
       "      <td>145.000000</td>\n",
       "      <td>145.000000</td>\n",
       "      <td>145.000000</td>\n",
       "      <td>145.000000</td>\n",
       "      <td>145.000000</td>\n",
       "      <td>145.000000</td>\n",
       "      <td>145.000000</td>\n",
       "    </tr>\n",
       "    <tr>\n",
       "      <th>mean</th>\n",
       "      <td>60.634483</td>\n",
       "      <td>63.696552</td>\n",
       "      <td>58.696552</td>\n",
       "      <td>6.508966</td>\n",
       "      <td>6.729655</td>\n",
       "      <td>184.489655</td>\n",
       "      <td>42572.186207</td>\n",
       "      <td>-3.062069</td>\n",
       "      <td>4.086207</td>\n",
       "      <td>3.841379</td>\n",
       "      <td>3817.696552</td>\n",
       "    </tr>\n",
       "    <tr>\n",
       "      <th>std</th>\n",
       "      <td>30.161098</td>\n",
       "      <td>19.974749</td>\n",
       "      <td>19.538183</td>\n",
       "      <td>1.510883</td>\n",
       "      <td>0.957944</td>\n",
       "      <td>317.361740</td>\n",
       "      <td>67558.506121</td>\n",
       "      <td>19.218488</td>\n",
       "      <td>0.541169</td>\n",
       "      <td>0.502437</td>\n",
       "      <td>6368.668671</td>\n",
       "    </tr>\n",
       "    <tr>\n",
       "      <th>min</th>\n",
       "      <td>5.000000</td>\n",
       "      <td>20.000000</td>\n",
       "      <td>13.000000</td>\n",
       "      <td>2.400000</td>\n",
       "      <td>4.000000</td>\n",
       "      <td>4.000000</td>\n",
       "      <td>243.000000</td>\n",
       "      <td>-66.000000</td>\n",
       "      <td>3.000000</td>\n",
       "      <td>2.700000</td>\n",
       "      <td>35.000000</td>\n",
       "    </tr>\n",
       "    <tr>\n",
       "      <th>25%</th>\n",
       "      <td>31.000000</td>\n",
       "      <td>50.000000</td>\n",
       "      <td>43.000000</td>\n",
       "      <td>5.700000</td>\n",
       "      <td>6.300000</td>\n",
       "      <td>33.000000</td>\n",
       "      <td>5626.000000</td>\n",
       "      <td>-14.000000</td>\n",
       "      <td>3.500000</td>\n",
       "      <td>3.500000</td>\n",
       "      <td>218.000000</td>\n",
       "    </tr>\n",
       "    <tr>\n",
       "      <th>50%</th>\n",
       "      <td>63.000000</td>\n",
       "      <td>66.000000</td>\n",
       "      <td>59.000000</td>\n",
       "      <td>6.800000</td>\n",
       "      <td>6.900000</td>\n",
       "      <td>72.000000</td>\n",
       "      <td>18986.000000</td>\n",
       "      <td>0.000000</td>\n",
       "      <td>4.000000</td>\n",
       "      <td>3.900000</td>\n",
       "      <td>1430.000000</td>\n",
       "    </tr>\n",
       "    <tr>\n",
       "      <th>75%</th>\n",
       "      <td>89.000000</td>\n",
       "      <td>81.000000</td>\n",
       "      <td>75.000000</td>\n",
       "      <td>7.500000</td>\n",
       "      <td>7.400000</td>\n",
       "      <td>167.000000</td>\n",
       "      <td>44711.000000</td>\n",
       "      <td>11.000000</td>\n",
       "      <td>4.500000</td>\n",
       "      <td>4.200000</td>\n",
       "      <td>4279.000000</td>\n",
       "    </tr>\n",
       "    <tr>\n",
       "      <th>max</th>\n",
       "      <td>100.000000</td>\n",
       "      <td>94.000000</td>\n",
       "      <td>94.000000</td>\n",
       "      <td>9.600000</td>\n",
       "      <td>8.600000</td>\n",
       "      <td>2375.000000</td>\n",
       "      <td>334164.000000</td>\n",
       "      <td>42.000000</td>\n",
       "      <td>5.000000</td>\n",
       "      <td>4.800000</td>\n",
       "      <td>34846.000000</td>\n",
       "    </tr>\n",
       "  </tbody>\n",
       "</table>\n",
       "</div>"
      ],
      "text/plain": [
       "       RottenTomatoes  RottenTomatoes_User  Metacritic  Metacritic_User  \\\n",
       "count      145.000000           145.000000  145.000000       145.000000   \n",
       "mean        60.634483            63.696552   58.696552         6.508966   \n",
       "std         30.161098            19.974749   19.538183         1.510883   \n",
       "min          5.000000            20.000000   13.000000         2.400000   \n",
       "25%         31.000000            50.000000   43.000000         5.700000   \n",
       "50%         63.000000            66.000000   59.000000         6.800000   \n",
       "75%         89.000000            81.000000   75.000000         7.500000   \n",
       "max        100.000000            94.000000   94.000000         9.600000   \n",
       "\n",
       "             IMDB  Metacritic_user_vote_count  IMDB_user_vote_count  \\\n",
       "count  145.000000                  145.000000            145.000000   \n",
       "mean     6.729655                  184.489655          42572.186207   \n",
       "std      0.957944                  317.361740          67558.506121   \n",
       "min      4.000000                    4.000000            243.000000   \n",
       "25%      6.300000                   33.000000           5626.000000   \n",
       "50%      6.900000                   72.000000          18986.000000   \n",
       "75%      7.400000                  167.000000          44711.000000   \n",
       "max      8.600000                 2375.000000         334164.000000   \n",
       "\n",
       "          RT_diff       STARS      RATING         VOTES  \n",
       "count  145.000000  145.000000  145.000000    145.000000  \n",
       "mean    -3.062069    4.086207    3.841379   3817.696552  \n",
       "std     19.218488    0.541169    0.502437   6368.668671  \n",
       "min    -66.000000    3.000000    2.700000     35.000000  \n",
       "25%    -14.000000    3.500000    3.500000    218.000000  \n",
       "50%      0.000000    4.000000    3.900000   1430.000000  \n",
       "75%     11.000000    4.500000    4.200000   4279.000000  \n",
       "max     42.000000    5.000000    4.800000  34846.000000  "
      ]
     },
     "execution_count": 135,
     "metadata": {},
     "output_type": "execute_result"
    }
   ],
   "source": [
    "merged_copy11.describe()"
   ]
  },
  {
   "cell_type": "code",
   "execution_count": 137,
   "id": "04a33ded-4004-4425-8eea-f9bc9f8a0d04",
   "metadata": {},
   "outputs": [],
   "source": [
    "def norm1(x):\n",
    "    y=(x*5)/100\n",
    "    z=round(y,1)\n",
    "    return z\n",
    "# for RT, RTU, MT columns, beacuse they are in 0-100 scale"
   ]
  },
  {
   "cell_type": "code",
   "execution_count": 139,
   "id": "e6d0b0aa-190c-4302-9f45-56f2a881b7a3",
   "metadata": {},
   "outputs": [],
   "source": [
    "def norm2(x):\n",
    "    k=(x*5)/10\n",
    "    m=round(k,1)\n",
    "    return m\n",
    "## for MTU, IMDB columns, beacuse they are in 0-10 scale"
   ]
  },
  {
   "cell_type": "code",
   "execution_count": 141,
   "id": "d40ea224-3a6f-436a-928d-9df6d91d7b0e",
   "metadata": {},
   "outputs": [],
   "source": [
    "merged_copy11[\"rt_norm\"]=merged_copy11[\"RottenTomatoes\"].apply(norm1)"
   ]
  },
  {
   "cell_type": "code",
   "execution_count": 143,
   "id": "fbc1aecf-5153-4bde-92e1-d00495e63c99",
   "metadata": {},
   "outputs": [],
   "source": [
    "merged_copy11[\"rtu_norm\"]=merged_copy11[\"RottenTomatoes_User\"].apply(norm1)"
   ]
  },
  {
   "cell_type": "code",
   "execution_count": 145,
   "id": "7535c195-6597-4196-8ec3-7cd63ceccff1",
   "metadata": {},
   "outputs": [],
   "source": [
    "merged_copy11[\"mt_norm\"]=merged_copy11[\"Metacritic\"].apply(norm1)"
   ]
  },
  {
   "cell_type": "code",
   "execution_count": 147,
   "id": "4da2f4c0-bf26-4594-b6c8-dd646acce8d7",
   "metadata": {},
   "outputs": [],
   "source": [
    "merged_copy11[\"mtu_norm\"]=merged_copy11[\"Metacritic_User\"].apply(norm2)"
   ]
  },
  {
   "cell_type": "code",
   "execution_count": 149,
   "id": "9dcbb305-4520-4ed8-b4a4-465da76cd093",
   "metadata": {},
   "outputs": [],
   "source": [
    "merged_copy11[\"imdb_norm\"]=merged_copy11[\"IMDB\"].apply(norm2)"
   ]
  },
  {
   "cell_type": "code",
   "execution_count": 151,
   "id": "1c97bc04-a4d9-4760-a5ca-f8d97760c2dc",
   "metadata": {},
   "outputs": [
    {
     "data": {
      "text/html": [
       "<div>\n",
       "<style scoped>\n",
       "    .dataframe tbody tr th:only-of-type {\n",
       "        vertical-align: middle;\n",
       "    }\n",
       "\n",
       "    .dataframe tbody tr th {\n",
       "        vertical-align: top;\n",
       "    }\n",
       "\n",
       "    .dataframe thead th {\n",
       "        text-align: right;\n",
       "    }\n",
       "</style>\n",
       "<table border=\"1\" class=\"dataframe\">\n",
       "  <thead>\n",
       "    <tr style=\"text-align: right;\">\n",
       "      <th></th>\n",
       "      <th>RottenTomatoes</th>\n",
       "      <th>RottenTomatoes_User</th>\n",
       "      <th>Metacritic</th>\n",
       "      <th>Metacritic_User</th>\n",
       "      <th>IMDB</th>\n",
       "      <th>Metacritic_user_vote_count</th>\n",
       "      <th>IMDB_user_vote_count</th>\n",
       "      <th>RT_diff</th>\n",
       "      <th>FILM</th>\n",
       "      <th>year</th>\n",
       "      <th>STARS</th>\n",
       "      <th>RATING</th>\n",
       "      <th>VOTES</th>\n",
       "      <th>rt_norm</th>\n",
       "      <th>rtu_norm</th>\n",
       "      <th>mt_norm</th>\n",
       "      <th>mtu_norm</th>\n",
       "      <th>imdb_norm</th>\n",
       "    </tr>\n",
       "  </thead>\n",
       "  <tbody>\n",
       "    <tr>\n",
       "      <th>0</th>\n",
       "      <td>74</td>\n",
       "      <td>86</td>\n",
       "      <td>66</td>\n",
       "      <td>7.1</td>\n",
       "      <td>7.8</td>\n",
       "      <td>1330</td>\n",
       "      <td>271107</td>\n",
       "      <td>-12</td>\n",
       "      <td>Avengers: Age of Ultron</td>\n",
       "      <td>2015</td>\n",
       "      <td>5.0</td>\n",
       "      <td>4.5</td>\n",
       "      <td>14846</td>\n",
       "      <td>3.7</td>\n",
       "      <td>4.3</td>\n",
       "      <td>3.3</td>\n",
       "      <td>3.5</td>\n",
       "      <td>3.9</td>\n",
       "    </tr>\n",
       "    <tr>\n",
       "      <th>1</th>\n",
       "      <td>85</td>\n",
       "      <td>80</td>\n",
       "      <td>67</td>\n",
       "      <td>7.5</td>\n",
       "      <td>7.1</td>\n",
       "      <td>249</td>\n",
       "      <td>65709</td>\n",
       "      <td>5</td>\n",
       "      <td>Cinderella</td>\n",
       "      <td>2015</td>\n",
       "      <td>5.0</td>\n",
       "      <td>4.5</td>\n",
       "      <td>12640</td>\n",
       "      <td>4.2</td>\n",
       "      <td>4.0</td>\n",
       "      <td>3.4</td>\n",
       "      <td>3.8</td>\n",
       "      <td>3.5</td>\n",
       "    </tr>\n",
       "    <tr>\n",
       "      <th>2</th>\n",
       "      <td>80</td>\n",
       "      <td>90</td>\n",
       "      <td>64</td>\n",
       "      <td>8.1</td>\n",
       "      <td>7.8</td>\n",
       "      <td>627</td>\n",
       "      <td>103660</td>\n",
       "      <td>-10</td>\n",
       "      <td>Ant-Man</td>\n",
       "      <td>2015</td>\n",
       "      <td>5.0</td>\n",
       "      <td>4.5</td>\n",
       "      <td>12055</td>\n",
       "      <td>4.0</td>\n",
       "      <td>4.5</td>\n",
       "      <td>3.2</td>\n",
       "      <td>4.0</td>\n",
       "      <td>3.9</td>\n",
       "    </tr>\n",
       "    <tr>\n",
       "      <th>3</th>\n",
       "      <td>18</td>\n",
       "      <td>84</td>\n",
       "      <td>22</td>\n",
       "      <td>4.7</td>\n",
       "      <td>5.4</td>\n",
       "      <td>31</td>\n",
       "      <td>3136</td>\n",
       "      <td>-66</td>\n",
       "      <td>Do You Believe?</td>\n",
       "      <td>2015</td>\n",
       "      <td>5.0</td>\n",
       "      <td>4.5</td>\n",
       "      <td>1793</td>\n",
       "      <td>0.9</td>\n",
       "      <td>4.2</td>\n",
       "      <td>1.1</td>\n",
       "      <td>2.4</td>\n",
       "      <td>2.7</td>\n",
       "    </tr>\n",
       "    <tr>\n",
       "      <th>4</th>\n",
       "      <td>14</td>\n",
       "      <td>28</td>\n",
       "      <td>29</td>\n",
       "      <td>3.4</td>\n",
       "      <td>5.1</td>\n",
       "      <td>88</td>\n",
       "      <td>19560</td>\n",
       "      <td>-14</td>\n",
       "      <td>Hot Tub Time Machine 2</td>\n",
       "      <td>2015</td>\n",
       "      <td>3.5</td>\n",
       "      <td>3.0</td>\n",
       "      <td>1021</td>\n",
       "      <td>0.7</td>\n",
       "      <td>1.4</td>\n",
       "      <td>1.4</td>\n",
       "      <td>1.7</td>\n",
       "      <td>2.5</td>\n",
       "    </tr>\n",
       "  </tbody>\n",
       "</table>\n",
       "</div>"
      ],
      "text/plain": [
       "   RottenTomatoes  RottenTomatoes_User  Metacritic  Metacritic_User  IMDB  \\\n",
       "0              74                   86          66              7.1   7.8   \n",
       "1              85                   80          67              7.5   7.1   \n",
       "2              80                   90          64              8.1   7.8   \n",
       "3              18                   84          22              4.7   5.4   \n",
       "4              14                   28          29              3.4   5.1   \n",
       "\n",
       "   Metacritic_user_vote_count  IMDB_user_vote_count  RT_diff  \\\n",
       "0                        1330                271107      -12   \n",
       "1                         249                 65709        5   \n",
       "2                         627                103660      -10   \n",
       "3                          31                  3136      -66   \n",
       "4                          88                 19560      -14   \n",
       "\n",
       "                      FILM  year  STARS  RATING  VOTES  rt_norm  rtu_norm  \\\n",
       "0  Avengers: Age of Ultron  2015    5.0     4.5  14846      3.7       4.3   \n",
       "1               Cinderella  2015    5.0     4.5  12640      4.2       4.0   \n",
       "2                  Ant-Man  2015    5.0     4.5  12055      4.0       4.5   \n",
       "3          Do You Believe?  2015    5.0     4.5   1793      0.9       4.2   \n",
       "4   Hot Tub Time Machine 2  2015    3.5     3.0   1021      0.7       1.4   \n",
       "\n",
       "   mt_norm  mtu_norm  imdb_norm  \n",
       "0      3.3       3.5        3.9  \n",
       "1      3.4       3.8        3.5  \n",
       "2      3.2       4.0        3.9  \n",
       "3      1.1       2.4        2.7  \n",
       "4      1.4       1.7        2.5  "
      ]
     },
     "execution_count": 151,
     "metadata": {},
     "output_type": "execute_result"
    }
   ],
   "source": [
    "merged_copy11.head()"
   ]
  },
  {
   "cell_type": "code",
   "execution_count": 153,
   "id": "5b9f5c57-451f-43a1-9525-8ba298a5a52e",
   "metadata": {},
   "outputs": [
    {
     "data": {
      "text/html": [
       "<div>\n",
       "<style scoped>\n",
       "    .dataframe tbody tr th:only-of-type {\n",
       "        vertical-align: middle;\n",
       "    }\n",
       "\n",
       "    .dataframe tbody tr th {\n",
       "        vertical-align: top;\n",
       "    }\n",
       "\n",
       "    .dataframe thead th {\n",
       "        text-align: right;\n",
       "    }\n",
       "</style>\n",
       "<table border=\"1\" class=\"dataframe\">\n",
       "  <thead>\n",
       "    <tr style=\"text-align: right;\">\n",
       "      <th></th>\n",
       "      <th>STARS</th>\n",
       "      <th>RATING</th>\n",
       "      <th>rt_norm</th>\n",
       "      <th>rtu_norm</th>\n",
       "      <th>mt_norm</th>\n",
       "      <th>mtu_norm</th>\n",
       "      <th>imdb_norm</th>\n",
       "    </tr>\n",
       "  </thead>\n",
       "  <tbody>\n",
       "    <tr>\n",
       "      <th>0</th>\n",
       "      <td>5.0</td>\n",
       "      <td>4.5</td>\n",
       "      <td>3.7</td>\n",
       "      <td>4.3</td>\n",
       "      <td>3.3</td>\n",
       "      <td>3.5</td>\n",
       "      <td>3.9</td>\n",
       "    </tr>\n",
       "    <tr>\n",
       "      <th>1</th>\n",
       "      <td>5.0</td>\n",
       "      <td>4.5</td>\n",
       "      <td>4.2</td>\n",
       "      <td>4.0</td>\n",
       "      <td>3.4</td>\n",
       "      <td>3.8</td>\n",
       "      <td>3.5</td>\n",
       "    </tr>\n",
       "    <tr>\n",
       "      <th>2</th>\n",
       "      <td>5.0</td>\n",
       "      <td>4.5</td>\n",
       "      <td>4.0</td>\n",
       "      <td>4.5</td>\n",
       "      <td>3.2</td>\n",
       "      <td>4.0</td>\n",
       "      <td>3.9</td>\n",
       "    </tr>\n",
       "    <tr>\n",
       "      <th>3</th>\n",
       "      <td>5.0</td>\n",
       "      <td>4.5</td>\n",
       "      <td>0.9</td>\n",
       "      <td>4.2</td>\n",
       "      <td>1.1</td>\n",
       "      <td>2.4</td>\n",
       "      <td>2.7</td>\n",
       "    </tr>\n",
       "    <tr>\n",
       "      <th>4</th>\n",
       "      <td>3.5</td>\n",
       "      <td>3.0</td>\n",
       "      <td>0.7</td>\n",
       "      <td>1.4</td>\n",
       "      <td>1.4</td>\n",
       "      <td>1.7</td>\n",
       "      <td>2.5</td>\n",
       "    </tr>\n",
       "  </tbody>\n",
       "</table>\n",
       "</div>"
      ],
      "text/plain": [
       "   STARS  RATING  rt_norm  rtu_norm  mt_norm  mtu_norm  imdb_norm\n",
       "0    5.0     4.5      3.7       4.3      3.3       3.5        3.9\n",
       "1    5.0     4.5      4.2       4.0      3.4       3.8        3.5\n",
       "2    5.0     4.5      4.0       4.5      3.2       4.0        3.9\n",
       "3    5.0     4.5      0.9       4.2      1.1       2.4        2.7\n",
       "4    3.5     3.0      0.7       1.4      1.4       1.7        2.5"
      ]
     },
     "execution_count": 153,
     "metadata": {},
     "output_type": "execute_result"
    }
   ],
   "source": [
    "# now lets look at relationships over normalized columns, stars and rating belong to the fandango\n",
    "merged_norm=merged_copy11[[\"STARS\",\"RATING\",\"rt_norm\",\"rtu_norm\",\"mt_norm\",\"mtu_norm\",\"imdb_norm\"]]\n",
    "merged_norm.head()"
   ]
  },
  {
   "cell_type": "code",
   "execution_count": null,
   "id": "6933be98-7e43-453a-9c3a-9717dce455bf",
   "metadata": {},
   "outputs": [],
   "source": [
    "# Comparing Distribution of Scores across Sites\n",
    "# Now the moment of truth! Does Fandango display abnormally high ratings? We already know it pushs displayed RATING higher than STARS, but are the ratings themselves higher than average?"
   ]
  },
  {
   "cell_type": "code",
   "execution_count": 161,
   "id": "4688bade-8aae-4cd9-a126-42f174868e1e",
   "metadata": {},
   "outputs": [
    {
     "data": {
      "text/plain": [
       "<matplotlib.legend.Legend at 0x18166f3e9c0>"
      ]
     },
     "execution_count": 161,
     "metadata": {},
     "output_type": "execute_result"
    },
    {
     "data": {
      "image/png": "[encoded data removed]",
      "text/plain": [
       "<Figure size 1000x500 with 1 Axes>"
      ]
     },
     "metadata": {},
     "output_type": "display_data"
    }
   ],
   "source": [
    "plt.figure(figsize=(10,5))\n",
    "sns.kdeplot(data=merged_norm,x=\"STARS\",label=\"fandango_stars\",fill=True)\n",
    "sns.kdeplot(data=merged_norm,x=\"RATING\",label=\"fandango_true_rating\",fill=True)\n",
    "sns.kdeplot(data=merged_norm,x=\"rt_norm\",label=\"rottentomatoes_rating\",fill=True)\n",
    "sns.kdeplot(data=merged_norm,x=\"rtu_norm\",label=\"rottentomatoes_users'_rating\",fill=True)\n",
    "sns.kdeplot(data=merged_norm,x=\"mt_norm\",label=\"metacritic_rating\",fill=True)\n",
    "sns.kdeplot(data=merged_norm,x=\"mtu_norm\",label=\"metacritic_users'_rating\",fill=True)\n",
    "sns.kdeplot(data=merged_norm,x=\"imdb_norm\",label=\"imdb_rating\",fill=True)\n",
    "plt.legend(loc=(1.01,0.6))"
   ]
  },
  {
   "cell_type": "code",
   "execution_count": null,
   "id": "ae4bbab9-df4b-4313-95a6-0ef1451adac1",
   "metadata": {},
   "outputs": [],
   "source": [
    "# Clearly Fandango has an uneven distribution. We can also see that RT critics have the most uniform distribution. Let's directly compare these two."
   ]
  },
  {
   "cell_type": "code",
   "execution_count": 163,
   "id": "f4193d76-0cae-4d11-b4ec-06e56edff678",
   "metadata": {},
   "outputs": [
    {
     "data": {
      "text/plain": [
       "<matplotlib.legend.Legend at 0x18166f54590>"
      ]
     },
     "execution_count": 163,
     "metadata": {},
     "output_type": "execute_result"
    },
    {
     "data": {
      "image/png": "[encoded data removed]",
      "text/plain": [
       "<Figure size 640x480 with 1 Axes>"
      ]
     },
     "metadata": {},
     "output_type": "display_data"
    }
   ],
   "source": [
    "sns.kdeplot(data=merged_norm,x=\"rt_norm\",fill=True,label=\"rottentomatoes\",clip=(0,5))\n",
    "sns.kdeplot(data=merged_norm,x=\"STARS\",fill=True,label=\"fandango_stars\",clip=(0,5))\n",
    "plt.legend(loc=\"upper left\")\n",
    "# notice that every other site has low ratings and high ratings but look at Fandango, they has got no lower ratings below 2.5 !!!"
   ]
  },
  {
   "cell_type": "code",
   "execution_count": 165,
   "id": "70f0118f-c65d-4750-97ff-f711ff820407",
   "metadata": {},
   "outputs": [
    {
     "data": {
      "text/plain": [
       "<Axes: ylabel='Count'>"
      ]
     },
     "execution_count": 165,
     "metadata": {},
     "output_type": "execute_result"
    },
    {
     "data": {
      "image/png": "[encoded data removed]",
      "text/plain": [
       "<Figure size 640x480 with 1 Axes>"
      ]
     },
     "metadata": {},
     "output_type": "display_data"
    }
   ],
   "source": [
    "sns.histplot(data=merged_norm,bins=50)\n",
    "# Notice the Fandango ratings — it seems they used 4.5 stars as the default"
   ]
  },
  {
   "cell_type": "code",
   "execution_count": null,
   "id": "917df1ad-4d4e-4afe-9525-619245820903",
   "metadata": {},
   "outputs": [],
   "source": [
    "# How are the worst movies rated across all platforms?\n",
    "# a clustermap visualization of all normalized scores."
   ]
  },
  {
   "cell_type": "code",
   "execution_count": 167,
   "id": "893571f4-d1ad-4355-b195-2d67876ff713",
   "metadata": {},
   "outputs": [
    {
     "data": {
      "text/plain": [
       "<seaborn.matrix.ClusterGrid at 0x18166fb3e90>"
      ]
     },
     "execution_count": 167,
     "metadata": {},
     "output_type": "execute_result"
    },
    {
     "data": {
      "image/png": "[encoded data removed]",
      "text/plain": [
       "<Figure size 1000x1000 with 4 Axes>"
      ]
     },
     "metadata": {},
     "output_type": "display_data"
    }
   ],
   "source": [
    "sns.clustermap(data=merged_norm)\n",
    "# here color gets darker high rateing to low rating; 5 to 1. we expect both light colors and dark colors for even distribution\n",
    "# but look at fandango column, it has almost no dark colors (low rating)\n",
    "# also i can see from the darkest shade of the dark colors, the Rotten Tomatoes Critics are the harshest of them all :)"
   ]
  },
  {
   "cell_type": "code",
   "execution_count": null,
   "id": "0edc7154-1fdb-4d47-8c73-cca40c09d81b",
   "metadata": {},
   "outputs": [],
   "source": [
    "# Let's examine the top 10 worst movies. Based off the Rotten Tomatoes Critic Ratings, what are the top 10 lowest rated movies? What are the normalized scores across all platforms for these movies?\n",
    "# in order to this investigate i need to add FILM (name) column to the merged_norm table"
   ]
  },
  {
   "cell_type": "code",
   "execution_count": 169,
   "id": "18948e00-a2d7-4f2c-8a78-8715dc606647",
   "metadata": {},
   "outputs": [
    {
     "name": "stdout",
     "output_type": "stream",
     "text": [
      "Index(['RottenTomatoes', 'RottenTomatoes_User', 'Metacritic',\n",
      "       'Metacritic_User', 'IMDB', 'Metacritic_user_vote_count',\n",
      "       'IMDB_user_vote_count', 'RT_diff', 'FILM', 'year', 'STARS', 'RATING',\n",
      "       'VOTES', 'rt_norm', 'rtu_norm', 'mt_norm', 'mtu_norm', 'imdb_norm'],\n",
      "      dtype='object')\n",
      "Index(['STARS', 'RATING', 'rt_norm', 'rtu_norm', 'mt_norm', 'mtu_norm',\n",
      "       'imdb_norm'],\n",
      "      dtype='object')\n"
     ]
    }
   ],
   "source": [
    "print(merged_copy11.columns)\n",
    "print(merged_norm.columns)"
   ]
  },
  {
   "cell_type": "code",
   "execution_count": 173,
   "id": "dcd83529-1ca7-4b40-8ae7-7e879bc3b879",
   "metadata": {},
   "outputs": [
    {
     "name": "stdout",
     "output_type": "stream",
     "text": [
      "STARS        3.5\n",
      "RATING       3.4\n",
      "rt_norm      3.5\n",
      "rtu_norm     2.5\n",
      "mt_norm      3.5\n",
      "mtu_norm     3.0\n",
      "imdb_norm    3.0\n",
      "Name: 111, dtype: float64\n",
      "RottenTomatoes                            71\n",
      "RottenTomatoes_User                       50\n",
      "Metacritic                                69\n",
      "Metacritic_User                          6.1\n",
      "IMDB                                     6.0\n",
      "Metacritic_user_vote_count               307\n",
      "IMDB_user_vote_count                   81679\n",
      "RT_diff                                   21\n",
      "FILM                          Into the Woods\n",
      "year                                    2014\n",
      "STARS                                    3.5\n",
      "RATING                                   3.4\n",
      "VOTES                                  13055\n",
      "rt_norm                                  3.5\n",
      "rtu_norm                                 2.5\n",
      "mt_norm                                  3.5\n",
      "mtu_norm                                 3.0\n",
      "imdb_norm                                3.0\n",
      "Name: 111, dtype: object\n"
     ]
    }
   ],
   "source": [
    "print(merged_norm.iloc[111])\n",
    "print(merged_copy11.iloc[111])"
   ]
  },
  {
   "cell_type": "code",
   "execution_count": 175,
   "id": "c7cb5363-ee13-4092-959d-ba5820042881",
   "metadata": {},
   "outputs": [
    {
     "name": "stderr",
     "output_type": "stream",
     "text": [
      "C:\\Users\\ASUS\\AppData\\Local\\Temp\\ipykernel_9832\\1379779695.py:1: SettingWithCopyWarning: \n",
      "A value is trying to be set on a copy of a slice from a DataFrame.\n",
      "Try using .loc[row_indexer,col_indexer] = value instead\n",
      "\n",
      "See the caveats in the documentation: https://pandas.pydata.org/pandas-docs/stable/user_guide/indexing.html#returning-a-view-versus-a-copy\n",
      "  merged_norm[\"FILM\"] = merged_copy11[\"FILM\"]\n"
     ]
    }
   ],
   "source": [
    "merged_norm[\"FILM\"] = merged_copy11[\"FILM\"]"
   ]
  },
  {
   "cell_type": "code",
   "execution_count": 177,
   "id": "e8e04d1b-2253-46c8-b644-7977b5f34b06",
   "metadata": {},
   "outputs": [
    {
     "data": {
      "text/html": [
       "<div>\n",
       "<style scoped>\n",
       "    .dataframe tbody tr th:only-of-type {\n",
       "        vertical-align: middle;\n",
       "    }\n",
       "\n",
       "    .dataframe tbody tr th {\n",
       "        vertical-align: top;\n",
       "    }\n",
       "\n",
       "    .dataframe thead th {\n",
       "        text-align: right;\n",
       "    }\n",
       "</style>\n",
       "<table border=\"1\" class=\"dataframe\">\n",
       "  <thead>\n",
       "    <tr style=\"text-align: right;\">\n",
       "      <th></th>\n",
       "      <th>STARS</th>\n",
       "      <th>RATING</th>\n",
       "      <th>rt_norm</th>\n",
       "      <th>rtu_norm</th>\n",
       "      <th>mt_norm</th>\n",
       "      <th>mtu_norm</th>\n",
       "      <th>imdb_norm</th>\n",
       "      <th>FILM</th>\n",
       "    </tr>\n",
       "  </thead>\n",
       "  <tbody>\n",
       "    <tr>\n",
       "      <th>0</th>\n",
       "      <td>5.0</td>\n",
       "      <td>4.5</td>\n",
       "      <td>3.7</td>\n",
       "      <td>4.3</td>\n",
       "      <td>3.3</td>\n",
       "      <td>3.5</td>\n",
       "      <td>3.9</td>\n",
       "      <td>Avengers: Age of Ultron</td>\n",
       "    </tr>\n",
       "    <tr>\n",
       "      <th>1</th>\n",
       "      <td>5.0</td>\n",
       "      <td>4.5</td>\n",
       "      <td>4.2</td>\n",
       "      <td>4.0</td>\n",
       "      <td>3.4</td>\n",
       "      <td>3.8</td>\n",
       "      <td>3.5</td>\n",
       "      <td>Cinderella</td>\n",
       "    </tr>\n",
       "    <tr>\n",
       "      <th>2</th>\n",
       "      <td>5.0</td>\n",
       "      <td>4.5</td>\n",
       "      <td>4.0</td>\n",
       "      <td>4.5</td>\n",
       "      <td>3.2</td>\n",
       "      <td>4.0</td>\n",
       "      <td>3.9</td>\n",
       "      <td>Ant-Man</td>\n",
       "    </tr>\n",
       "    <tr>\n",
       "      <th>3</th>\n",
       "      <td>5.0</td>\n",
       "      <td>4.5</td>\n",
       "      <td>0.9</td>\n",
       "      <td>4.2</td>\n",
       "      <td>1.1</td>\n",
       "      <td>2.4</td>\n",
       "      <td>2.7</td>\n",
       "      <td>Do You Believe?</td>\n",
       "    </tr>\n",
       "    <tr>\n",
       "      <th>4</th>\n",
       "      <td>3.5</td>\n",
       "      <td>3.0</td>\n",
       "      <td>0.7</td>\n",
       "      <td>1.4</td>\n",
       "      <td>1.4</td>\n",
       "      <td>1.7</td>\n",
       "      <td>2.5</td>\n",
       "      <td>Hot Tub Time Machine 2</td>\n",
       "    </tr>\n",
       "  </tbody>\n",
       "</table>\n",
       "</div>"
      ],
      "text/plain": [
       "   STARS  RATING  rt_norm  rtu_norm  mt_norm  mtu_norm  imdb_norm  \\\n",
       "0    5.0     4.5      3.7       4.3      3.3       3.5        3.9   \n",
       "1    5.0     4.5      4.2       4.0      3.4       3.8        3.5   \n",
       "2    5.0     4.5      4.0       4.5      3.2       4.0        3.9   \n",
       "3    5.0     4.5      0.9       4.2      1.1       2.4        2.7   \n",
       "4    3.5     3.0      0.7       1.4      1.4       1.7        2.5   \n",
       "\n",
       "                      FILM  \n",
       "0  Avengers: Age of Ultron  \n",
       "1               Cinderella  \n",
       "2                  Ant-Man  \n",
       "3          Do You Believe?  \n",
       "4   Hot Tub Time Machine 2  "
      ]
     },
     "execution_count": 177,
     "metadata": {},
     "output_type": "execute_result"
    }
   ],
   "source": [
    "merged_norm.head()"
   ]
  },
  {
   "cell_type": "code",
   "execution_count": 179,
   "id": "90d98f61-ebf4-4efd-88f2-e40c2f635273",
   "metadata": {},
   "outputs": [
    {
     "data": {
      "text/html": [
       "<div>\n",
       "<style scoped>\n",
       "    .dataframe tbody tr th:only-of-type {\n",
       "        vertical-align: middle;\n",
       "    }\n",
       "\n",
       "    .dataframe tbody tr th {\n",
       "        vertical-align: top;\n",
       "    }\n",
       "\n",
       "    .dataframe thead th {\n",
       "        text-align: right;\n",
       "    }\n",
       "</style>\n",
       "<table border=\"1\" class=\"dataframe\">\n",
       "  <thead>\n",
       "    <tr style=\"text-align: right;\">\n",
       "      <th></th>\n",
       "      <th>STARS</th>\n",
       "      <th>RATING</th>\n",
       "      <th>rt_norm</th>\n",
       "      <th>rtu_norm</th>\n",
       "      <th>mt_norm</th>\n",
       "      <th>mtu_norm</th>\n",
       "      <th>imdb_norm</th>\n",
       "      <th>FILM</th>\n",
       "    </tr>\n",
       "  </thead>\n",
       "  <tbody>\n",
       "    <tr>\n",
       "      <th>132</th>\n",
       "      <td>3.5</td>\n",
       "      <td>3.5</td>\n",
       "      <td>0.2</td>\n",
       "      <td>1.8</td>\n",
       "      <td>0.7</td>\n",
       "      <td>1.2</td>\n",
       "      <td>2.1</td>\n",
       "      <td>Paul Blart: Mall Cop 2</td>\n",
       "    </tr>\n",
       "    <tr>\n",
       "      <th>105</th>\n",
       "      <td>4.0</td>\n",
       "      <td>3.9</td>\n",
       "      <td>0.3</td>\n",
       "      <td>2.5</td>\n",
       "      <td>1.4</td>\n",
       "      <td>1.6</td>\n",
       "      <td>3.0</td>\n",
       "      <td>Hitman: Agent 47</td>\n",
       "    </tr>\n",
       "    <tr>\n",
       "      <th>53</th>\n",
       "      <td>4.0</td>\n",
       "      <td>3.7</td>\n",
       "      <td>0.4</td>\n",
       "      <td>1.9</td>\n",
       "      <td>1.6</td>\n",
       "      <td>1.9</td>\n",
       "      <td>2.5</td>\n",
       "      <td>Hot Pursuit</td>\n",
       "    </tr>\n",
       "    <tr>\n",
       "      <th>15</th>\n",
       "      <td>4.5</td>\n",
       "      <td>4.1</td>\n",
       "      <td>0.5</td>\n",
       "      <td>2.3</td>\n",
       "      <td>1.3</td>\n",
       "      <td>2.3</td>\n",
       "      <td>3.0</td>\n",
       "      <td>Taken 3</td>\n",
       "    </tr>\n",
       "    <tr>\n",
       "      <th>33</th>\n",
       "      <td>4.0</td>\n",
       "      <td>3.6</td>\n",
       "      <td>0.5</td>\n",
       "      <td>1.8</td>\n",
       "      <td>1.5</td>\n",
       "      <td>2.8</td>\n",
       "      <td>2.3</td>\n",
       "      <td>The Boy Next Door</td>\n",
       "    </tr>\n",
       "    <tr>\n",
       "      <th>48</th>\n",
       "      <td>3.0</td>\n",
       "      <td>2.7</td>\n",
       "      <td>0.5</td>\n",
       "      <td>1.0</td>\n",
       "      <td>1.4</td>\n",
       "      <td>1.2</td>\n",
       "      <td>2.0</td>\n",
       "      <td>Fantastic Four</td>\n",
       "    </tr>\n",
       "    <tr>\n",
       "      <th>35</th>\n",
       "      <td>4.0</td>\n",
       "      <td>3.6</td>\n",
       "      <td>0.6</td>\n",
       "      <td>2.0</td>\n",
       "      <td>1.2</td>\n",
       "      <td>1.2</td>\n",
       "      <td>3.1</td>\n",
       "      <td>The Loft</td>\n",
       "    </tr>\n",
       "    <tr>\n",
       "      <th>58</th>\n",
       "      <td>3.5</td>\n",
       "      <td>3.2</td>\n",
       "      <td>0.6</td>\n",
       "      <td>1.8</td>\n",
       "      <td>1.5</td>\n",
       "      <td>1.9</td>\n",
       "      <td>2.8</td>\n",
       "      <td>Seventh Son</td>\n",
       "    </tr>\n",
       "    <tr>\n",
       "      <th>59</th>\n",
       "      <td>3.5</td>\n",
       "      <td>3.2</td>\n",
       "      <td>0.6</td>\n",
       "      <td>1.5</td>\n",
       "      <td>1.4</td>\n",
       "      <td>1.6</td>\n",
       "      <td>2.8</td>\n",
       "      <td>Mortdecai</td>\n",
       "    </tr>\n",
       "    <tr>\n",
       "      <th>60</th>\n",
       "      <td>3.5</td>\n",
       "      <td>3.2</td>\n",
       "      <td>0.6</td>\n",
       "      <td>1.4</td>\n",
       "      <td>1.6</td>\n",
       "      <td>1.9</td>\n",
       "      <td>2.7</td>\n",
       "      <td>Unfinished Business</td>\n",
       "    </tr>\n",
       "  </tbody>\n",
       "</table>\n",
       "</div>"
      ],
      "text/plain": [
       "     STARS  RATING  rt_norm  rtu_norm  mt_norm  mtu_norm  imdb_norm  \\\n",
       "132    3.5     3.5      0.2       1.8      0.7       1.2        2.1   \n",
       "105    4.0     3.9      0.3       2.5      1.4       1.6        3.0   \n",
       "53     4.0     3.7      0.4       1.9      1.6       1.9        2.5   \n",
       "15     4.5     4.1      0.5       2.3      1.3       2.3        3.0   \n",
       "33     4.0     3.6      0.5       1.8      1.5       2.8        2.3   \n",
       "48     3.0     2.7      0.5       1.0      1.4       1.2        2.0   \n",
       "35     4.0     3.6      0.6       2.0      1.2       1.2        3.1   \n",
       "58     3.5     3.2      0.6       1.8      1.5       1.9        2.8   \n",
       "59     3.5     3.2      0.6       1.5      1.4       1.6        2.8   \n",
       "60     3.5     3.2      0.6       1.4      1.6       1.9        2.7   \n",
       "\n",
       "                       FILM  \n",
       "132  Paul Blart: Mall Cop 2  \n",
       "105        Hitman: Agent 47  \n",
       "53              Hot Pursuit  \n",
       "15                  Taken 3  \n",
       "33        The Boy Next Door  \n",
       "48           Fantastic Four  \n",
       "35                 The Loft  \n",
       "58              Seventh Son  \n",
       "59                Mortdecai  \n",
       "60      Unfinished Business  "
      ]
     },
     "execution_count": 179,
     "metadata": {},
     "output_type": "execute_result"
    }
   ],
   "source": [
    "# snce RottenTomatoes Critics are the harshest, which films are the worst according to them?\n",
    "merged_norm.sort_values(\"rt_norm\",ascending=True).head(10)"
   ]
  },
  {
   "cell_type": "code",
   "execution_count": null,
   "id": "01a51cfc-12b0-4c6d-a5cf-070f09184fe5",
   "metadata": {},
   "outputs": [],
   "source": [
    "# Visualize the distribution of ratings across all sites for the top 10 worst movies."
   ]
  },
  {
   "cell_type": "code",
   "execution_count": 183,
   "id": "a4684666-2843-47d7-8f0c-28dafe29310e",
   "metadata": {},
   "outputs": [
    {
     "data": {
      "text/plain": [
       "<Axes: ylabel='Density'>"
      ]
     },
     "execution_count": 183,
     "metadata": {},
     "output_type": "execute_result"
    },
    {
     "data": {
      "image/png": "[encoded data removed]",
      "text/plain": [
       "<Figure size 640x480 with 1 Axes>"
      ]
     },
     "metadata": {},
     "output_type": "display_data"
    }
   ],
   "source": [
    "sns.kdeplot(data=merged_norm.sort_values(\"rt_norm\",ascending=True).head(10),fill=True,clip=(0,5))\n",
    "# Look at those 10 films that are rated worst by Rotten Tomatoes critics: while Rotten Tomatoes rates them around 0, Fandango rates them mostly around 4 out of 5 !!!"
   ]
  },
  {
   "cell_type": "code",
   "execution_count": null,
   "id": "75c52a3b-953c-4aaa-b677-6d06c70f252e",
   "metadata": {},
   "outputs": [],
   "source": [
    "# Wow! Fandango is showing around 3-4 star ratings for films that are clearly bad! Notice the biggest offender, Taken 3!. Fandango is displaying 4.5 stars on their site for a film with an average rating of 1.86 across the other platforms!"
   ]
  },
  {
   "cell_type": "code",
   "execution_count": 185,
   "id": "073b687e-4b65-4e66-99a6-3f2c1368beee",
   "metadata": {},
   "outputs": [
    {
     "data": {
      "text/html": [
       "<div>\n",
       "<style scoped>\n",
       "    .dataframe tbody tr th:only-of-type {\n",
       "        vertical-align: middle;\n",
       "    }\n",
       "\n",
       "    .dataframe tbody tr th {\n",
       "        vertical-align: top;\n",
       "    }\n",
       "\n",
       "    .dataframe thead th {\n",
       "        text-align: right;\n",
       "    }\n",
       "</style>\n",
       "<table border=\"1\" class=\"dataframe\">\n",
       "  <thead>\n",
       "    <tr style=\"text-align: right;\">\n",
       "      <th></th>\n",
       "      <th>STARS</th>\n",
       "      <th>RATING</th>\n",
       "      <th>rt_norm</th>\n",
       "      <th>rtu_norm</th>\n",
       "      <th>mt_norm</th>\n",
       "      <th>mtu_norm</th>\n",
       "      <th>imdb_norm</th>\n",
       "      <th>FILM</th>\n",
       "    </tr>\n",
       "  </thead>\n",
       "  <tbody>\n",
       "    <tr>\n",
       "      <th>15</th>\n",
       "      <td>4.5</td>\n",
       "      <td>4.1</td>\n",
       "      <td>0.5</td>\n",
       "      <td>2.3</td>\n",
       "      <td>1.3</td>\n",
       "      <td>2.3</td>\n",
       "      <td>3.0</td>\n",
       "      <td>Taken 3</td>\n",
       "    </tr>\n",
       "  </tbody>\n",
       "</table>\n",
       "</div>"
      ],
      "text/plain": [
       "    STARS  RATING  rt_norm  rtu_norm  mt_norm  mtu_norm  imdb_norm     FILM\n",
       "15    4.5     4.1      0.5       2.3      1.3       2.3        3.0  Taken 3"
      ]
     },
     "execution_count": 185,
     "metadata": {},
     "output_type": "execute_result"
    }
   ],
   "source": [
    "merged_norm[merged_norm[\"FILM\"]==\"Taken 3\"]\n",
    "# fandango: 4.5  other sites avg: 1.88"
   ]
  },
  {
   "cell_type": "code",
   "execution_count": 187,
   "id": "786c12ef-c7e6-49f6-a31c-a37e91d1661c",
   "metadata": {},
   "outputs": [
    {
     "data": {
      "text/html": [
       "<div>\n",
       "<style scoped>\n",
       "    .dataframe tbody tr th:only-of-type {\n",
       "        vertical-align: middle;\n",
       "    }\n",
       "\n",
       "    .dataframe tbody tr th {\n",
       "        vertical-align: top;\n",
       "    }\n",
       "\n",
       "    .dataframe thead th {\n",
       "        text-align: right;\n",
       "    }\n",
       "</style>\n",
       "<table border=\"1\" class=\"dataframe\">\n",
       "  <thead>\n",
       "    <tr style=\"text-align: right;\">\n",
       "      <th></th>\n",
       "      <th>STARS</th>\n",
       "      <th>RATING</th>\n",
       "      <th>rt_norm</th>\n",
       "      <th>rtu_norm</th>\n",
       "      <th>mt_norm</th>\n",
       "      <th>mtu_norm</th>\n",
       "      <th>imdb_norm</th>\n",
       "      <th>FILM</th>\n",
       "    </tr>\n",
       "  </thead>\n",
       "  <tbody>\n",
       "    <tr>\n",
       "      <th>132</th>\n",
       "      <td>3.5</td>\n",
       "      <td>3.5</td>\n",
       "      <td>0.2</td>\n",
       "      <td>1.8</td>\n",
       "      <td>0.7</td>\n",
       "      <td>1.2</td>\n",
       "      <td>2.1</td>\n",
       "      <td>Paul Blart: Mall Cop 2</td>\n",
       "    </tr>\n",
       "  </tbody>\n",
       "</table>\n",
       "</div>"
      ],
      "text/plain": [
       "     STARS  RATING  rt_norm  rtu_norm  mt_norm  mtu_norm  imdb_norm  \\\n",
       "132    3.5     3.5      0.2       1.8      0.7       1.2        2.1   \n",
       "\n",
       "                       FILM  \n",
       "132  Paul Blart: Mall Cop 2  "
      ]
     },
     "execution_count": 187,
     "metadata": {},
     "output_type": "execute_result"
    }
   ],
   "source": [
    "merged_norm[merged_norm[\"FILM\"]==\"Paul Blart: Mall Cop 2\"]\n",
    "# fandango: 3.5  other sites avg: 1.2"
   ]
  },
  {
   "cell_type": "code",
   "execution_count": null,
   "id": "f4317949-cff0-4c9f-a383-0238f786f090",
   "metadata": {},
   "outputs": [],
   "source": [
    "# THANK YOU"
   ]
  }
 ],
 "metadata": {
  "kernelspec": {
   "display_name": "Python 3 (ipykernel)",
   "language": "python",
   "name": "python3"
  },
  "language_info": {
   "codemirror_mode": {
    "name": "ipython",
    "version": 3
   },
   "file_extension": ".py",
   "mimetype": "text/x-python",
   "name": "python",
   "nbconvert_exporter": "python",
   "pygments_lexer": "ipython3",
   "version": "3.12.4"
  }
 },
 "nbformat": 4,
 "nbformat_minor": 5
}
